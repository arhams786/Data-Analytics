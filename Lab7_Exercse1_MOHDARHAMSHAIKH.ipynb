{
 "cells": [
  {
   "cell_type": "markdown",
   "metadata": {
    "id": "_u37-iHEd6i-"
   },
   "source": [
    "# Exercise 1: Clustering\n",
    "\n",
    "### MOHD ARHAM SHAIKH\n",
    "### Reg.No: 200968051\n",
    "### IDA Lab Week 7\n"
   ]
  },
  {
   "cell_type": "markdown",
   "metadata": {
    "id": "jqopstFqeBTG"
   },
   "source": [
    "### Question 1A: Summaryof Metadata"
   ]
  },
  {
   "cell_type": "markdown",
   "metadata": {
    "id": "wzxPcX4teEbX"
   },
   "source": [
    "Dataset: \"Onine Retail.xlsx\"<br>\n",
    "Downloaded from: https://archive.ics.uci.edu/ml/datasets/online+retail\n",
    "\n",
    "- Transactional dataset for a UK based and registered non-store online retail\n",
    "- Company aminly sells unique all occasion gifts\n",
    "- Company cutomers are wholesalers\n",
    "- Data of Transaction between 01/12/2010 and 09/12/2011"
   ]
  },
  {
   "cell_type": "markdown",
   "metadata": {
    "id": "5bOWpmOreHvo"
   },
   "source": [
    "Attribute Information:\n",
    "\n",
    "- InvoiceNo: Invoice number. Nominal, a 6-digit integral number uniquely assigned to each transaction. If this code starts with letter 'c', it indicates a cancellation.\n",
    "- StockCode: Product (item) code. Nominal, a 5-digit integral number uniquely assigned to each distinct product.\n",
    "- Description: Product (item) name. Nominal.\n",
    "- Quantity: The quantities of each product (item) per transaction. Numeric.\n",
    "- InvoiceDate: Invice Date and time. Numeric, the day and time when each transaction was generated.\n",
    "- UnitPrice: Unit price. Numeric, Product price per unit in sterling.\n",
    "- CustomerID: Customer number. Nominal, a 5-digit integral number uniquely assigned to each customer.\n",
    "- Country: Country name. Nominal, the name of the country where each customer resides."
   ]
  },
  {
   "cell_type": "markdown",
   "metadata": {
    "id": "bnlfcHoBeK-z"
   },
   "source": [
    "Data Set Characteristics:  Multivariate, Sequential, Time-Series\n",
    "\n",
    "Number of Instances: 541909\n",
    "\n",
    "Area: Business\n",
    "\n",
    "Attribute Characteristics: Integer, Real\n",
    "\n",
    "Number of Attributes: 8\n",
    "\n",
    "Date Donated: 2015-11-06\n",
    "\n",
    "Associated Tasks: Classification, Clustering\n",
    "\n",
    "Missing Values?: N/A\n",
    "\n",
    "Number of Web Hits: 675708"
   ]
  },
  {
   "cell_type": "markdown",
   "metadata": {
    "id": "4kiuiC8LeQgl"
   },
   "source": [
    "#### Importing"
   ]
  },
  {
   "cell_type": "code",
   "execution_count": 1,
   "metadata": {
    "id": "u0qkvfm9eWUb"
   },
   "outputs": [],
   "source": [
    "import pandas as pd\n",
    "import matplotlib.pyplot as plt\n",
    "import seaborn as sns\n",
    "import numpy as np"
   ]
  },
  {
   "cell_type": "code",
   "execution_count": 4,
   "metadata": {
    "id": "3Tux08D0gVhU"
   },
   "outputs": [],
   "source": [
    "df1 = pd.read_excel(\"Online Retail.xlsx\")"
   ]
  },
  {
   "cell_type": "code",
   "execution_count": 5,
   "metadata": {
    "id": "l4Vj7maSga1V"
   },
   "outputs": [],
   "source": [
    "df1['InvoiceDate'] = pd.to_datetime(df1[\"InvoiceDate\"])"
   ]
  },
  {
   "cell_type": "code",
   "execution_count": 6,
   "metadata": {
    "colab": {
     "base_uri": "https://localhost:8080/"
    },
    "id": "hoOMUiiEh35H",
    "outputId": "682890b0-aed0-4a11-ffe8-1510d24cf4cf"
   },
   "outputs": [
    {
     "data": {
      "text/plain": [
       "0        2010-12-01 08:26:00\n",
       "1        2010-12-01 08:26:00\n",
       "2        2010-12-01 08:26:00\n",
       "3        2010-12-01 08:26:00\n",
       "4        2010-12-01 08:26:00\n",
       "                 ...        \n",
       "541904   2011-12-09 12:50:00\n",
       "541905   2011-12-09 12:50:00\n",
       "541906   2011-12-09 12:50:00\n",
       "541907   2011-12-09 12:50:00\n",
       "541908   2011-12-09 12:50:00\n",
       "Name: InvoiceDate, Length: 541909, dtype: datetime64[ns]"
      ]
     },
     "execution_count": 6,
     "metadata": {},
     "output_type": "execute_result"
    }
   ],
   "source": [
    "df1[\"InvoiceDate\"]"
   ]
  },
  {
   "cell_type": "markdown",
   "metadata": {
    "id": "9IpYGrhehDh-"
   },
   "source": [
    "### Question 1B: Transactions  that have occurred from 01/04/ 2011 and 09/12/2011"
   ]
  },
  {
   "cell_type": "code",
   "execution_count": 7,
   "metadata": {
    "id": "SOrpJObOhQgn"
   },
   "outputs": [],
   "source": [
    "df = df1.loc[((df1['InvoiceDate'] >= '2011-4-1') & \n",
    "             (df1['InvoiceDate'] < '2011-12-10'))]"
   ]
  },
  {
   "cell_type": "code",
   "execution_count": 8,
   "metadata": {
    "colab": {
     "base_uri": "https://localhost:8080/",
     "height": 641
    },
    "id": "yebuPeDGiVw6",
    "outputId": "dcf0f0aa-4d9c-4f3c-8eee-e53746e85a90"
   },
   "outputs": [
    {
     "data": {
      "text/html": [
       "<div>\n",
       "<style scoped>\n",
       "    .dataframe tbody tr th:only-of-type {\n",
       "        vertical-align: middle;\n",
       "    }\n",
       "\n",
       "    .dataframe tbody tr th {\n",
       "        vertical-align: top;\n",
       "    }\n",
       "\n",
       "    .dataframe thead th {\n",
       "        text-align: right;\n",
       "    }\n",
       "</style>\n",
       "<table border=\"1\" class=\"dataframe\">\n",
       "  <thead>\n",
       "    <tr style=\"text-align: right;\">\n",
       "      <th></th>\n",
       "      <th>InvoiceNo</th>\n",
       "      <th>StockCode</th>\n",
       "      <th>Description</th>\n",
       "      <th>Quantity</th>\n",
       "      <th>InvoiceDate</th>\n",
       "      <th>UnitPrice</th>\n",
       "      <th>CustomerID</th>\n",
       "      <th>Country</th>\n",
       "    </tr>\n",
       "  </thead>\n",
       "  <tbody>\n",
       "    <tr>\n",
       "      <th>142083</th>\n",
       "      <td>548550</td>\n",
       "      <td>22662</td>\n",
       "      <td>LUNCH BAG DOLLY GIRL DESIGN</td>\n",
       "      <td>10</td>\n",
       "      <td>2011-04-01 08:22:00</td>\n",
       "      <td>1.65</td>\n",
       "      <td>18161.0</td>\n",
       "      <td>United Kingdom</td>\n",
       "    </tr>\n",
       "    <tr>\n",
       "      <th>142084</th>\n",
       "      <td>548550</td>\n",
       "      <td>22296</td>\n",
       "      <td>HEART IVORY TRELLIS LARGE</td>\n",
       "      <td>12</td>\n",
       "      <td>2011-04-01 08:22:00</td>\n",
       "      <td>1.65</td>\n",
       "      <td>18161.0</td>\n",
       "      <td>United Kingdom</td>\n",
       "    </tr>\n",
       "    <tr>\n",
       "      <th>142085</th>\n",
       "      <td>548550</td>\n",
       "      <td>21790</td>\n",
       "      <td>VINTAGE SNAP CARDS</td>\n",
       "      <td>12</td>\n",
       "      <td>2011-04-01 08:22:00</td>\n",
       "      <td>0.85</td>\n",
       "      <td>18161.0</td>\n",
       "      <td>United Kingdom</td>\n",
       "    </tr>\n",
       "    <tr>\n",
       "      <th>142086</th>\n",
       "      <td>548550</td>\n",
       "      <td>22622</td>\n",
       "      <td>BOX OF VINTAGE ALPHABET BLOCKS</td>\n",
       "      <td>2</td>\n",
       "      <td>2011-04-01 08:22:00</td>\n",
       "      <td>9.95</td>\n",
       "      <td>18161.0</td>\n",
       "      <td>United Kingdom</td>\n",
       "    </tr>\n",
       "    <tr>\n",
       "      <th>142087</th>\n",
       "      <td>548550</td>\n",
       "      <td>22393</td>\n",
       "      <td>PAPERWEIGHT VINTAGE COLLAGE</td>\n",
       "      <td>6</td>\n",
       "      <td>2011-04-01 08:22:00</td>\n",
       "      <td>2.55</td>\n",
       "      <td>18161.0</td>\n",
       "      <td>United Kingdom</td>\n",
       "    </tr>\n",
       "    <tr>\n",
       "      <th>...</th>\n",
       "      <td>...</td>\n",
       "      <td>...</td>\n",
       "      <td>...</td>\n",
       "      <td>...</td>\n",
       "      <td>...</td>\n",
       "      <td>...</td>\n",
       "      <td>...</td>\n",
       "      <td>...</td>\n",
       "    </tr>\n",
       "    <tr>\n",
       "      <th>541904</th>\n",
       "      <td>581587</td>\n",
       "      <td>22613</td>\n",
       "      <td>PACK OF 20 SPACEBOY NAPKINS</td>\n",
       "      <td>12</td>\n",
       "      <td>2011-12-09 12:50:00</td>\n",
       "      <td>0.85</td>\n",
       "      <td>12680.0</td>\n",
       "      <td>France</td>\n",
       "    </tr>\n",
       "    <tr>\n",
       "      <th>541905</th>\n",
       "      <td>581587</td>\n",
       "      <td>22899</td>\n",
       "      <td>CHILDREN'S APRON DOLLY GIRL</td>\n",
       "      <td>6</td>\n",
       "      <td>2011-12-09 12:50:00</td>\n",
       "      <td>2.10</td>\n",
       "      <td>12680.0</td>\n",
       "      <td>France</td>\n",
       "    </tr>\n",
       "    <tr>\n",
       "      <th>541906</th>\n",
       "      <td>581587</td>\n",
       "      <td>23254</td>\n",
       "      <td>CHILDRENS CUTLERY DOLLY GIRL</td>\n",
       "      <td>4</td>\n",
       "      <td>2011-12-09 12:50:00</td>\n",
       "      <td>4.15</td>\n",
       "      <td>12680.0</td>\n",
       "      <td>France</td>\n",
       "    </tr>\n",
       "    <tr>\n",
       "      <th>541907</th>\n",
       "      <td>581587</td>\n",
       "      <td>23255</td>\n",
       "      <td>CHILDRENS CUTLERY CIRCUS PARADE</td>\n",
       "      <td>4</td>\n",
       "      <td>2011-12-09 12:50:00</td>\n",
       "      <td>4.15</td>\n",
       "      <td>12680.0</td>\n",
       "      <td>France</td>\n",
       "    </tr>\n",
       "    <tr>\n",
       "      <th>541908</th>\n",
       "      <td>581587</td>\n",
       "      <td>22138</td>\n",
       "      <td>BAKING SET 9 PIECE RETROSPOT</td>\n",
       "      <td>3</td>\n",
       "      <td>2011-12-09 12:50:00</td>\n",
       "      <td>4.95</td>\n",
       "      <td>12680.0</td>\n",
       "      <td>France</td>\n",
       "    </tr>\n",
       "  </tbody>\n",
       "</table>\n",
       "<p>399826 rows × 8 columns</p>\n",
       "</div>"
      ],
      "text/plain": [
       "       InvoiceNo StockCode                      Description  Quantity  \\\n",
       "142083    548550     22662      LUNCH BAG DOLLY GIRL DESIGN        10   \n",
       "142084    548550     22296        HEART IVORY TRELLIS LARGE        12   \n",
       "142085    548550     21790               VINTAGE SNAP CARDS        12   \n",
       "142086    548550     22622   BOX OF VINTAGE ALPHABET BLOCKS         2   \n",
       "142087    548550     22393      PAPERWEIGHT VINTAGE COLLAGE         6   \n",
       "...          ...       ...                              ...       ...   \n",
       "541904    581587     22613      PACK OF 20 SPACEBOY NAPKINS        12   \n",
       "541905    581587     22899     CHILDREN'S APRON DOLLY GIRL          6   \n",
       "541906    581587     23254    CHILDRENS CUTLERY DOLLY GIRL          4   \n",
       "541907    581587     23255  CHILDRENS CUTLERY CIRCUS PARADE         4   \n",
       "541908    581587     22138    BAKING SET 9 PIECE RETROSPOT          3   \n",
       "\n",
       "               InvoiceDate  UnitPrice  CustomerID         Country  \n",
       "142083 2011-04-01 08:22:00       1.65     18161.0  United Kingdom  \n",
       "142084 2011-04-01 08:22:00       1.65     18161.0  United Kingdom  \n",
       "142085 2011-04-01 08:22:00       0.85     18161.0  United Kingdom  \n",
       "142086 2011-04-01 08:22:00       9.95     18161.0  United Kingdom  \n",
       "142087 2011-04-01 08:22:00       2.55     18161.0  United Kingdom  \n",
       "...                    ...        ...         ...             ...  \n",
       "541904 2011-12-09 12:50:00       0.85     12680.0          France  \n",
       "541905 2011-12-09 12:50:00       2.10     12680.0          France  \n",
       "541906 2011-12-09 12:50:00       4.15     12680.0          France  \n",
       "541907 2011-12-09 12:50:00       4.15     12680.0          France  \n",
       "541908 2011-12-09 12:50:00       4.95     12680.0          France  \n",
       "\n",
       "[399826 rows x 8 columns]"
      ]
     },
     "execution_count": 8,
     "metadata": {},
     "output_type": "execute_result"
    }
   ],
   "source": [
    "df"
   ]
  },
  {
   "cell_type": "code",
   "execution_count": 9,
   "metadata": {
    "colab": {
     "base_uri": "https://localhost:8080/"
    },
    "id": "TM-ZIyfti4GD",
    "outputId": "8c012f5c-b113-40fb-f461-edfc593f473c"
   },
   "outputs": [
    {
     "data": {
      "text/plain": [
       "(399826, 8)"
      ]
     },
     "execution_count": 9,
     "metadata": {},
     "output_type": "execute_result"
    }
   ],
   "source": [
    "df.shape"
   ]
  },
  {
   "cell_type": "code",
   "execution_count": 10,
   "metadata": {
    "colab": {
     "base_uri": "https://localhost:8080/"
    },
    "id": "aYoa8CHOi5Nz",
    "outputId": "a2367d08-54ee-44fc-b508-84772af72ee1"
   },
   "outputs": [
    {
     "name": "stdout",
     "output_type": "stream",
     "text": [
      "<class 'pandas.core.frame.DataFrame'>\n",
      "Int64Index: 399826 entries, 142083 to 541908\n",
      "Data columns (total 8 columns):\n",
      " #   Column       Non-Null Count   Dtype         \n",
      "---  ------       --------------   -----         \n",
      " 0   InvoiceNo    399826 non-null  object        \n",
      " 1   StockCode    399826 non-null  object        \n",
      " 2   Description  398841 non-null  object        \n",
      " 3   Quantity     399826 non-null  int64         \n",
      " 4   InvoiceDate  399826 non-null  datetime64[ns]\n",
      " 5   UnitPrice    399826 non-null  float64       \n",
      " 6   CustomerID   309882 non-null  float64       \n",
      " 7   Country      399826 non-null  object        \n",
      "dtypes: datetime64[ns](1), float64(2), int64(1), object(4)\n",
      "memory usage: 27.5+ MB\n"
     ]
    }
   ],
   "source": [
    "df.info()"
   ]
  },
  {
   "cell_type": "code",
   "execution_count": 11,
   "metadata": {
    "colab": {
     "base_uri": "https://localhost:8080/"
    },
    "id": "JJuGC440ooz1",
    "outputId": "9f29c4a4-6369-480b-87e3-1dd85dfb0f6a"
   },
   "outputs": [
    {
     "name": "stderr",
     "output_type": "stream",
     "text": [
      "/Users/arhamshaikh/opt/anaconda3/lib/python3.9/site-packages/pandas/util/_decorators.py:311: SettingWithCopyWarning: \n",
      "A value is trying to be set on a copy of a slice from a DataFrame\n",
      "\n",
      "See the caveats in the documentation: https://pandas.pydata.org/pandas-docs/stable/user_guide/indexing.html#returning-a-view-versus-a-copy\n",
      "  return func(*args, **kwargs)\n"
     ]
    }
   ],
   "source": [
    "df.dropna(axis = 0, inplace = True)"
   ]
  },
  {
   "cell_type": "code",
   "execution_count": 12,
   "metadata": {
    "colab": {
     "base_uri": "https://localhost:8080/"
    },
    "id": "58kZXFkCovPL",
    "outputId": "de3e087c-e6df-4a4c-d52f-2658d4c63945"
   },
   "outputs": [
    {
     "name": "stdout",
     "output_type": "stream",
     "text": [
      "<class 'pandas.core.frame.DataFrame'>\n",
      "Int64Index: 309882 entries, 142083 to 541908\n",
      "Data columns (total 8 columns):\n",
      " #   Column       Non-Null Count   Dtype         \n",
      "---  ------       --------------   -----         \n",
      " 0   InvoiceNo    309882 non-null  object        \n",
      " 1   StockCode    309882 non-null  object        \n",
      " 2   Description  309882 non-null  object        \n",
      " 3   Quantity     309882 non-null  int64         \n",
      " 4   InvoiceDate  309882 non-null  datetime64[ns]\n",
      " 5   UnitPrice    309882 non-null  float64       \n",
      " 6   CustomerID   309882 non-null  float64       \n",
      " 7   Country      309882 non-null  object        \n",
      "dtypes: datetime64[ns](1), float64(2), int64(1), object(4)\n",
      "memory usage: 21.3+ MB\n"
     ]
    }
   ],
   "source": [
    "df.info()"
   ]
  },
  {
   "cell_type": "markdown",
   "metadata": {
    "id": "Ba00e8FUo7ES"
   },
   "source": [
    "### Question 1C(2,3): RFM\n",
    "  - R: Recency\n",
    "  - F: Frequency\n",
    "  - M: Monetary Value"
   ]
  },
  {
   "cell_type": "markdown",
   "metadata": {
    "id": "ZcgOhdivu9Y7"
   },
   "source": [
    "Calculating Recency for each Customer (by CustomerID)"
   ]
  },
  {
   "cell_type": "markdown",
   "metadata": {
    "id": "eRERk--sptN5"
   },
   "source": [
    "By the given definition, Recency (R) can be calculated by the formula of 12 - month of purchase"
   ]
  },
  {
   "cell_type": "code",
   "execution_count": 13,
   "metadata": {
    "colab": {
     "base_uri": "https://localhost:8080/"
    },
    "id": "mwOT4EagpMkW",
    "outputId": "b407005e-49e0-414a-e3ac-c0420cae68a5"
   },
   "outputs": [
    {
     "name": "stderr",
     "output_type": "stream",
     "text": [
      "/var/folders/y8/69n04rzx5dg77862g6k72d7c0000gn/T/ipykernel_5831/3757429760.py:1: SettingWithCopyWarning: \n",
      "A value is trying to be set on a copy of a slice from a DataFrame.\n",
      "Try using .loc[row_indexer,col_indexer] = value instead\n",
      "\n",
      "See the caveats in the documentation: https://pandas.pydata.org/pandas-docs/stable/user_guide/indexing.html#returning-a-view-versus-a-copy\n",
      "  df['Recency'] = 12 - df.InvoiceDate.dt.month\n"
     ]
    }
   ],
   "source": [
    "df['Recency'] = 12 - df.InvoiceDate.dt.month"
   ]
  },
  {
   "cell_type": "code",
   "execution_count": 14,
   "metadata": {
    "colab": {
     "base_uri": "https://localhost:8080/"
    },
    "id": "cFOB-cisowjW",
    "outputId": "76bb5b3d-9521-4ef5-c836-611c049ad296"
   },
   "outputs": [
    {
     "data": {
      "text/plain": [
       "142083    8\n",
       "142084    8\n",
       "142085    8\n",
       "142086    8\n",
       "142087    8\n",
       "         ..\n",
       "541904    0\n",
       "541905    0\n",
       "541906    0\n",
       "541907    0\n",
       "541908    0\n",
       "Name: Recency, Length: 309882, dtype: int64"
      ]
     },
     "execution_count": 14,
     "metadata": {},
     "output_type": "execute_result"
    }
   ],
   "source": [
    "df.Recency"
   ]
  },
  {
   "cell_type": "code",
   "execution_count": 15,
   "metadata": {
    "id": "4zMyUyA0xWsV"
   },
   "outputs": [],
   "source": [
    "Recency = df[['CustomerID', 'Recency']].groupby(by = 'CustomerID').min()"
   ]
  },
  {
   "cell_type": "markdown",
   "metadata": {
    "id": "gWx2TlLoxrVy"
   },
   "source": [
    "Confirming the number of customer ids for which recncy is calculted against total unique customers for the given dataset"
   ]
  },
  {
   "cell_type": "code",
   "execution_count": 16,
   "metadata": {
    "colab": {
     "base_uri": "https://localhost:8080/"
    },
    "id": "H40NqOaFxgCJ",
    "outputId": "da7ffb02-f8e8-4228-989a-f8631d1db5a8"
   },
   "outputs": [
    {
     "data": {
      "text/plain": [
       "True"
      ]
     },
     "execution_count": 16,
     "metadata": {},
     "output_type": "execute_result"
    }
   ],
   "source": [
    "Recency.shape[0] == df.CustomerID.unique().shape[0]"
   ]
  },
  {
   "cell_type": "code",
   "execution_count": 17,
   "metadata": {
    "id": "jhyFcojVyfPB"
   },
   "outputs": [],
   "source": [
    "Recency = Recency.reset_index()"
   ]
  },
  {
   "cell_type": "code",
   "execution_count": 18,
   "metadata": {
    "colab": {
     "base_uri": "https://localhost:8080/"
    },
    "id": "fQENQwu3mcRB",
    "outputId": "09802377-3033-4e1f-ab2f-c7572d2f5841"
   },
   "outputs": [
    {
     "data": {
      "text/plain": [
       "(3875, 2)"
      ]
     },
     "execution_count": 18,
     "metadata": {},
     "output_type": "execute_result"
    }
   ],
   "source": [
    "Recency.shape"
   ]
  },
  {
   "cell_type": "code",
   "execution_count": 19,
   "metadata": {
    "colab": {
     "base_uri": "https://localhost:8080/",
     "height": 206
    },
    "id": "Uxnu5p2lx8SR",
    "outputId": "828f2222-afce-4796-e535-0f418df67bfc"
   },
   "outputs": [
    {
     "data": {
      "text/html": [
       "<div>\n",
       "<style scoped>\n",
       "    .dataframe tbody tr th:only-of-type {\n",
       "        vertical-align: middle;\n",
       "    }\n",
       "\n",
       "    .dataframe tbody tr th {\n",
       "        vertical-align: top;\n",
       "    }\n",
       "\n",
       "    .dataframe thead th {\n",
       "        text-align: right;\n",
       "    }\n",
       "</style>\n",
       "<table border=\"1\" class=\"dataframe\">\n",
       "  <thead>\n",
       "    <tr style=\"text-align: right;\">\n",
       "      <th></th>\n",
       "      <th>CustomerID</th>\n",
       "      <th>Recency</th>\n",
       "    </tr>\n",
       "  </thead>\n",
       "  <tbody>\n",
       "    <tr>\n",
       "      <th>0</th>\n",
       "      <td>12347.0</td>\n",
       "      <td>0</td>\n",
       "    </tr>\n",
       "    <tr>\n",
       "      <th>1</th>\n",
       "      <td>12348.0</td>\n",
       "      <td>3</td>\n",
       "    </tr>\n",
       "    <tr>\n",
       "      <th>2</th>\n",
       "      <td>12349.0</td>\n",
       "      <td>1</td>\n",
       "    </tr>\n",
       "    <tr>\n",
       "      <th>3</th>\n",
       "      <td>12352.0</td>\n",
       "      <td>1</td>\n",
       "    </tr>\n",
       "    <tr>\n",
       "      <th>4</th>\n",
       "      <td>12353.0</td>\n",
       "      <td>7</td>\n",
       "    </tr>\n",
       "  </tbody>\n",
       "</table>\n",
       "</div>"
      ],
      "text/plain": [
       "   CustomerID  Recency\n",
       "0     12347.0        0\n",
       "1     12348.0        3\n",
       "2     12349.0        1\n",
       "3     12352.0        1\n",
       "4     12353.0        7"
      ]
     },
     "execution_count": 19,
     "metadata": {},
     "output_type": "execute_result"
    }
   ],
   "source": [
    "Recency.head()"
   ]
  },
  {
   "cell_type": "code",
   "execution_count": 20,
   "metadata": {
    "colab": {
     "base_uri": "https://localhost:8080/"
    },
    "id": "FmO8DJJF3XIk",
    "outputId": "34c6955f-af5c-464d-dfaf-68176e25900b"
   },
   "outputs": [
    {
     "name": "stderr",
     "output_type": "stream",
     "text": [
      "/Users/arhamshaikh/opt/anaconda3/lib/python3.9/site-packages/pandas/core/frame.py:4906: SettingWithCopyWarning: \n",
      "A value is trying to be set on a copy of a slice from a DataFrame\n",
      "\n",
      "See the caveats in the documentation: https://pandas.pydata.org/pandas-docs/stable/user_guide/indexing.html#returning-a-view-versus-a-copy\n",
      "  return super().drop(\n"
     ]
    }
   ],
   "source": [
    "df.drop('Recency', axis = 1, inplace = True)"
   ]
  },
  {
   "cell_type": "markdown",
   "metadata": {
    "id": "pODoEotivkZl"
   },
   "source": [
    "Calculating Frequency"
   ]
  },
  {
   "cell_type": "code",
   "execution_count": 21,
   "metadata": {
    "colab": {
     "base_uri": "https://localhost:8080/",
     "height": 423
    },
    "id": "Lr6toAohxCeF",
    "outputId": "b4c885e8-16d7-413a-adab-22cf08e8a435"
   },
   "outputs": [
    {
     "data": {
      "text/html": [
       "<div>\n",
       "<style scoped>\n",
       "    .dataframe tbody tr th:only-of-type {\n",
       "        vertical-align: middle;\n",
       "    }\n",
       "\n",
       "    .dataframe tbody tr th {\n",
       "        vertical-align: top;\n",
       "    }\n",
       "\n",
       "    .dataframe thead th {\n",
       "        text-align: right;\n",
       "    }\n",
       "</style>\n",
       "<table border=\"1\" class=\"dataframe\">\n",
       "  <thead>\n",
       "    <tr style=\"text-align: right;\">\n",
       "      <th></th>\n",
       "      <th>CustomerID</th>\n",
       "      <th>Frequency</th>\n",
       "    </tr>\n",
       "  </thead>\n",
       "  <tbody>\n",
       "    <tr>\n",
       "      <th>0</th>\n",
       "      <td>12347.0</td>\n",
       "      <td>122</td>\n",
       "    </tr>\n",
       "    <tr>\n",
       "      <th>1</th>\n",
       "      <td>12348.0</td>\n",
       "      <td>8</td>\n",
       "    </tr>\n",
       "    <tr>\n",
       "      <th>2</th>\n",
       "      <td>12349.0</td>\n",
       "      <td>73</td>\n",
       "    </tr>\n",
       "    <tr>\n",
       "      <th>3</th>\n",
       "      <td>12352.0</td>\n",
       "      <td>47</td>\n",
       "    </tr>\n",
       "    <tr>\n",
       "      <th>4</th>\n",
       "      <td>12353.0</td>\n",
       "      <td>4</td>\n",
       "    </tr>\n",
       "    <tr>\n",
       "      <th>...</th>\n",
       "      <td>...</td>\n",
       "      <td>...</td>\n",
       "    </tr>\n",
       "    <tr>\n",
       "      <th>3870</th>\n",
       "      <td>18278.0</td>\n",
       "      <td>9</td>\n",
       "    </tr>\n",
       "    <tr>\n",
       "      <th>3871</th>\n",
       "      <td>18281.0</td>\n",
       "      <td>7</td>\n",
       "    </tr>\n",
       "    <tr>\n",
       "      <th>3872</th>\n",
       "      <td>18282.0</td>\n",
       "      <td>13</td>\n",
       "    </tr>\n",
       "    <tr>\n",
       "      <th>3873</th>\n",
       "      <td>18283.0</td>\n",
       "      <td>624</td>\n",
       "    </tr>\n",
       "    <tr>\n",
       "      <th>3874</th>\n",
       "      <td>18287.0</td>\n",
       "      <td>70</td>\n",
       "    </tr>\n",
       "  </tbody>\n",
       "</table>\n",
       "<p>3875 rows × 2 columns</p>\n",
       "</div>"
      ],
      "text/plain": [
       "      CustomerID  Frequency\n",
       "0        12347.0        122\n",
       "1        12348.0          8\n",
       "2        12349.0         73\n",
       "3        12352.0         47\n",
       "4        12353.0          4\n",
       "...          ...        ...\n",
       "3870     18278.0          9\n",
       "3871     18281.0          7\n",
       "3872     18282.0         13\n",
       "3873     18283.0        624\n",
       "3874     18287.0         70\n",
       "\n",
       "[3875 rows x 2 columns]"
      ]
     },
     "execution_count": 21,
     "metadata": {},
     "output_type": "execute_result"
    }
   ],
   "source": [
    "F = df.groupby('CustomerID')['InvoiceNo'].count()\n",
    "F = F.reset_index()\n",
    "F.columns = ['CustomerID','Frequency']\n",
    "F"
   ]
  },
  {
   "cell_type": "markdown",
   "metadata": {
    "id": "cuUxGxI38OgR"
   },
   "source": [
    "Calculating Monetary Value"
   ]
  },
  {
   "cell_type": "code",
   "execution_count": 22,
   "metadata": {
    "colab": {
     "base_uri": "https://localhost:8080/"
    },
    "id": "bn4Fe2GfwU6Q",
    "outputId": "455c6ad3-e277-4e07-da4f-10ea4c5cd153"
   },
   "outputs": [
    {
     "name": "stderr",
     "output_type": "stream",
     "text": [
      "/var/folders/y8/69n04rzx5dg77862g6k72d7c0000gn/T/ipykernel_5831/1005578033.py:1: SettingWithCopyWarning: \n",
      "A value is trying to be set on a copy of a slice from a DataFrame.\n",
      "Try using .loc[row_indexer,col_indexer] = value instead\n",
      "\n",
      "See the caveats in the documentation: https://pandas.pydata.org/pandas-docs/stable/user_guide/indexing.html#returning-a-view-versus-a-copy\n",
      "  df['Total'] = (df['Quantity'] * df['UnitPrice'])\n"
     ]
    }
   ],
   "source": [
    "df['Total'] = (df['Quantity'] * df['UnitPrice'])"
   ]
  },
  {
   "cell_type": "code",
   "execution_count": 23,
   "metadata": {
    "colab": {
     "base_uri": "https://localhost:8080/",
     "height": 389
    },
    "id": "Nnjjm6ocwa_W",
    "outputId": "ca183943-ee8f-448f-e4a4-b155519b56ca"
   },
   "outputs": [
    {
     "data": {
      "text/html": [
       "<div>\n",
       "<style scoped>\n",
       "    .dataframe tbody tr th:only-of-type {\n",
       "        vertical-align: middle;\n",
       "    }\n",
       "\n",
       "    .dataframe tbody tr th {\n",
       "        vertical-align: top;\n",
       "    }\n",
       "\n",
       "    .dataframe thead th {\n",
       "        text-align: right;\n",
       "    }\n",
       "</style>\n",
       "<table border=\"1\" class=\"dataframe\">\n",
       "  <thead>\n",
       "    <tr style=\"text-align: right;\">\n",
       "      <th></th>\n",
       "      <th>InvoiceNo</th>\n",
       "      <th>StockCode</th>\n",
       "      <th>Description</th>\n",
       "      <th>Quantity</th>\n",
       "      <th>InvoiceDate</th>\n",
       "      <th>UnitPrice</th>\n",
       "      <th>CustomerID</th>\n",
       "      <th>Country</th>\n",
       "      <th>Total</th>\n",
       "    </tr>\n",
       "  </thead>\n",
       "  <tbody>\n",
       "    <tr>\n",
       "      <th>142083</th>\n",
       "      <td>548550</td>\n",
       "      <td>22662</td>\n",
       "      <td>LUNCH BAG DOLLY GIRL DESIGN</td>\n",
       "      <td>10</td>\n",
       "      <td>2011-04-01 08:22:00</td>\n",
       "      <td>1.65</td>\n",
       "      <td>18161.0</td>\n",
       "      <td>United Kingdom</td>\n",
       "      <td>16.5</td>\n",
       "    </tr>\n",
       "    <tr>\n",
       "      <th>142084</th>\n",
       "      <td>548550</td>\n",
       "      <td>22296</td>\n",
       "      <td>HEART IVORY TRELLIS LARGE</td>\n",
       "      <td>12</td>\n",
       "      <td>2011-04-01 08:22:00</td>\n",
       "      <td>1.65</td>\n",
       "      <td>18161.0</td>\n",
       "      <td>United Kingdom</td>\n",
       "      <td>19.8</td>\n",
       "    </tr>\n",
       "    <tr>\n",
       "      <th>142085</th>\n",
       "      <td>548550</td>\n",
       "      <td>21790</td>\n",
       "      <td>VINTAGE SNAP CARDS</td>\n",
       "      <td>12</td>\n",
       "      <td>2011-04-01 08:22:00</td>\n",
       "      <td>0.85</td>\n",
       "      <td>18161.0</td>\n",
       "      <td>United Kingdom</td>\n",
       "      <td>10.2</td>\n",
       "    </tr>\n",
       "    <tr>\n",
       "      <th>142086</th>\n",
       "      <td>548550</td>\n",
       "      <td>22622</td>\n",
       "      <td>BOX OF VINTAGE ALPHABET BLOCKS</td>\n",
       "      <td>2</td>\n",
       "      <td>2011-04-01 08:22:00</td>\n",
       "      <td>9.95</td>\n",
       "      <td>18161.0</td>\n",
       "      <td>United Kingdom</td>\n",
       "      <td>19.9</td>\n",
       "    </tr>\n",
       "    <tr>\n",
       "      <th>142087</th>\n",
       "      <td>548550</td>\n",
       "      <td>22393</td>\n",
       "      <td>PAPERWEIGHT VINTAGE COLLAGE</td>\n",
       "      <td>6</td>\n",
       "      <td>2011-04-01 08:22:00</td>\n",
       "      <td>2.55</td>\n",
       "      <td>18161.0</td>\n",
       "      <td>United Kingdom</td>\n",
       "      <td>15.3</td>\n",
       "    </tr>\n",
       "  </tbody>\n",
       "</table>\n",
       "</div>"
      ],
      "text/plain": [
       "       InvoiceNo StockCode                     Description  Quantity  \\\n",
       "142083    548550     22662     LUNCH BAG DOLLY GIRL DESIGN        10   \n",
       "142084    548550     22296       HEART IVORY TRELLIS LARGE        12   \n",
       "142085    548550     21790              VINTAGE SNAP CARDS        12   \n",
       "142086    548550     22622  BOX OF VINTAGE ALPHABET BLOCKS         2   \n",
       "142087    548550     22393     PAPERWEIGHT VINTAGE COLLAGE         6   \n",
       "\n",
       "               InvoiceDate  UnitPrice  CustomerID         Country  Total  \n",
       "142083 2011-04-01 08:22:00       1.65     18161.0  United Kingdom   16.5  \n",
       "142084 2011-04-01 08:22:00       1.65     18161.0  United Kingdom   19.8  \n",
       "142085 2011-04-01 08:22:00       0.85     18161.0  United Kingdom   10.2  \n",
       "142086 2011-04-01 08:22:00       9.95     18161.0  United Kingdom   19.9  \n",
       "142087 2011-04-01 08:22:00       2.55     18161.0  United Kingdom   15.3  "
      ]
     },
     "execution_count": 23,
     "metadata": {},
     "output_type": "execute_result"
    }
   ],
   "source": [
    "df.head()"
   ]
  },
  {
   "cell_type": "code",
   "execution_count": 24,
   "metadata": {
    "id": "eAiZpa9Tvy93"
   },
   "outputs": [],
   "source": [
    "M = df.groupby('CustomerID')['Total'].sum()\n",
    "M = pd.DataFrame(M).reset_index()"
   ]
  },
  {
   "cell_type": "code",
   "execution_count": 25,
   "metadata": {
    "colab": {
     "base_uri": "https://localhost:8080/",
     "height": 423
    },
    "id": "JLRj7IABwSYJ",
    "outputId": "9ad9401b-1b76-47dc-fa0d-f5515176f4dc"
   },
   "outputs": [
    {
     "data": {
      "text/html": [
       "<div>\n",
       "<style scoped>\n",
       "    .dataframe tbody tr th:only-of-type {\n",
       "        vertical-align: middle;\n",
       "    }\n",
       "\n",
       "    .dataframe tbody tr th {\n",
       "        vertical-align: top;\n",
       "    }\n",
       "\n",
       "    .dataframe thead th {\n",
       "        text-align: right;\n",
       "    }\n",
       "</style>\n",
       "<table border=\"1\" class=\"dataframe\">\n",
       "  <thead>\n",
       "    <tr style=\"text-align: right;\">\n",
       "      <th></th>\n",
       "      <th>CustomerID</th>\n",
       "      <th>Total</th>\n",
       "    </tr>\n",
       "  </thead>\n",
       "  <tbody>\n",
       "    <tr>\n",
       "      <th>0</th>\n",
       "      <td>12347.0</td>\n",
       "      <td>3122.82</td>\n",
       "    </tr>\n",
       "    <tr>\n",
       "      <th>1</th>\n",
       "      <td>12348.0</td>\n",
       "      <td>677.00</td>\n",
       "    </tr>\n",
       "    <tr>\n",
       "      <th>2</th>\n",
       "      <td>12349.0</td>\n",
       "      <td>1757.55</td>\n",
       "    </tr>\n",
       "    <tr>\n",
       "      <th>3</th>\n",
       "      <td>12352.0</td>\n",
       "      <td>944.23</td>\n",
       "    </tr>\n",
       "    <tr>\n",
       "      <th>4</th>\n",
       "      <td>12353.0</td>\n",
       "      <td>89.00</td>\n",
       "    </tr>\n",
       "    <tr>\n",
       "      <th>...</th>\n",
       "      <td>...</td>\n",
       "      <td>...</td>\n",
       "    </tr>\n",
       "    <tr>\n",
       "      <th>3870</th>\n",
       "      <td>18278.0</td>\n",
       "      <td>173.90</td>\n",
       "    </tr>\n",
       "    <tr>\n",
       "      <th>3871</th>\n",
       "      <td>18281.0</td>\n",
       "      <td>80.82</td>\n",
       "    </tr>\n",
       "    <tr>\n",
       "      <th>3872</th>\n",
       "      <td>18282.0</td>\n",
       "      <td>176.60</td>\n",
       "    </tr>\n",
       "    <tr>\n",
       "      <th>3873</th>\n",
       "      <td>18283.0</td>\n",
       "      <td>1776.98</td>\n",
       "    </tr>\n",
       "    <tr>\n",
       "      <th>3874</th>\n",
       "      <td>18287.0</td>\n",
       "      <td>1837.28</td>\n",
       "    </tr>\n",
       "  </tbody>\n",
       "</table>\n",
       "<p>3875 rows × 2 columns</p>\n",
       "</div>"
      ],
      "text/plain": [
       "      CustomerID    Total\n",
       "0        12347.0  3122.82\n",
       "1        12348.0   677.00\n",
       "2        12349.0  1757.55\n",
       "3        12352.0   944.23\n",
       "4        12353.0    89.00\n",
       "...          ...      ...\n",
       "3870     18278.0   173.90\n",
       "3871     18281.0    80.82\n",
       "3872     18282.0   176.60\n",
       "3873     18283.0  1776.98\n",
       "3874     18287.0  1837.28\n",
       "\n",
       "[3875 rows x 2 columns]"
      ]
     },
     "execution_count": 25,
     "metadata": {},
     "output_type": "execute_result"
    }
   ],
   "source": [
    "M"
   ]
  },
  {
   "cell_type": "markdown",
   "metadata": {
    "id": "w-Jt_4FK_sY1"
   },
   "source": [
    "### Question 4A: Elbow Method"
   ]
  },
  {
   "cell_type": "code",
   "execution_count": 26,
   "metadata": {
    "id": "dHCMz3y9_QjU"
   },
   "outputs": [],
   "source": [
    "RF = pd.merge(Recency, F, on = 'CustomerID')"
   ]
  },
  {
   "cell_type": "code",
   "execution_count": 27,
   "metadata": {
    "colab": {
     "base_uri": "https://localhost:8080/",
     "height": 423
    },
    "id": "v_kC7ltUziXv",
    "outputId": "5659ab82-e64a-48ae-89ce-242a29e612d8"
   },
   "outputs": [
    {
     "data": {
      "text/html": [
       "<div>\n",
       "<style scoped>\n",
       "    .dataframe tbody tr th:only-of-type {\n",
       "        vertical-align: middle;\n",
       "    }\n",
       "\n",
       "    .dataframe tbody tr th {\n",
       "        vertical-align: top;\n",
       "    }\n",
       "\n",
       "    .dataframe thead th {\n",
       "        text-align: right;\n",
       "    }\n",
       "</style>\n",
       "<table border=\"1\" class=\"dataframe\">\n",
       "  <thead>\n",
       "    <tr style=\"text-align: right;\">\n",
       "      <th></th>\n",
       "      <th>CustomerID</th>\n",
       "      <th>Recency</th>\n",
       "      <th>Frequency</th>\n",
       "    </tr>\n",
       "  </thead>\n",
       "  <tbody>\n",
       "    <tr>\n",
       "      <th>0</th>\n",
       "      <td>12347.0</td>\n",
       "      <td>0</td>\n",
       "      <td>122</td>\n",
       "    </tr>\n",
       "    <tr>\n",
       "      <th>1</th>\n",
       "      <td>12348.0</td>\n",
       "      <td>3</td>\n",
       "      <td>8</td>\n",
       "    </tr>\n",
       "    <tr>\n",
       "      <th>2</th>\n",
       "      <td>12349.0</td>\n",
       "      <td>1</td>\n",
       "      <td>73</td>\n",
       "    </tr>\n",
       "    <tr>\n",
       "      <th>3</th>\n",
       "      <td>12352.0</td>\n",
       "      <td>1</td>\n",
       "      <td>47</td>\n",
       "    </tr>\n",
       "    <tr>\n",
       "      <th>4</th>\n",
       "      <td>12353.0</td>\n",
       "      <td>7</td>\n",
       "      <td>4</td>\n",
       "    </tr>\n",
       "    <tr>\n",
       "      <th>...</th>\n",
       "      <td>...</td>\n",
       "      <td>...</td>\n",
       "      <td>...</td>\n",
       "    </tr>\n",
       "    <tr>\n",
       "      <th>3870</th>\n",
       "      <td>18278.0</td>\n",
       "      <td>3</td>\n",
       "      <td>9</td>\n",
       "    </tr>\n",
       "    <tr>\n",
       "      <th>3871</th>\n",
       "      <td>18281.0</td>\n",
       "      <td>6</td>\n",
       "      <td>7</td>\n",
       "    </tr>\n",
       "    <tr>\n",
       "      <th>3872</th>\n",
       "      <td>18282.0</td>\n",
       "      <td>0</td>\n",
       "      <td>13</td>\n",
       "    </tr>\n",
       "    <tr>\n",
       "      <th>3873</th>\n",
       "      <td>18283.0</td>\n",
       "      <td>0</td>\n",
       "      <td>624</td>\n",
       "    </tr>\n",
       "    <tr>\n",
       "      <th>3874</th>\n",
       "      <td>18287.0</td>\n",
       "      <td>2</td>\n",
       "      <td>70</td>\n",
       "    </tr>\n",
       "  </tbody>\n",
       "</table>\n",
       "<p>3875 rows × 3 columns</p>\n",
       "</div>"
      ],
      "text/plain": [
       "      CustomerID  Recency  Frequency\n",
       "0        12347.0        0        122\n",
       "1        12348.0        3          8\n",
       "2        12349.0        1         73\n",
       "3        12352.0        1         47\n",
       "4        12353.0        7          4\n",
       "...          ...      ...        ...\n",
       "3870     18278.0        3          9\n",
       "3871     18281.0        6          7\n",
       "3872     18282.0        0         13\n",
       "3873     18283.0        0        624\n",
       "3874     18287.0        2         70\n",
       "\n",
       "[3875 rows x 3 columns]"
      ]
     },
     "execution_count": 27,
     "metadata": {},
     "output_type": "execute_result"
    }
   ],
   "source": [
    "RF"
   ]
  },
  {
   "cell_type": "code",
   "execution_count": 30,
   "metadata": {
    "id": "Qxr69gB9zmAP"
   },
   "outputs": [],
   "source": [
    "RFM = pd.merge(RF, M, on = 'CustomerID')"
   ]
  },
  {
   "cell_type": "code",
   "execution_count": 31,
   "metadata": {
    "colab": {
     "base_uri": "https://localhost:8080/",
     "height": 423
    },
    "id": "FGwE4fLezszT",
    "outputId": "05d46d47-f69e-4d69-e5ea-adba1dec849d"
   },
   "outputs": [
    {
     "data": {
      "text/html": [
       "<div>\n",
       "<style scoped>\n",
       "    .dataframe tbody tr th:only-of-type {\n",
       "        vertical-align: middle;\n",
       "    }\n",
       "\n",
       "    .dataframe tbody tr th {\n",
       "        vertical-align: top;\n",
       "    }\n",
       "\n",
       "    .dataframe thead th {\n",
       "        text-align: right;\n",
       "    }\n",
       "</style>\n",
       "<table border=\"1\" class=\"dataframe\">\n",
       "  <thead>\n",
       "    <tr style=\"text-align: right;\">\n",
       "      <th></th>\n",
       "      <th>CustomerID</th>\n",
       "      <th>Recency</th>\n",
       "      <th>Frequency</th>\n",
       "      <th>Total</th>\n",
       "    </tr>\n",
       "  </thead>\n",
       "  <tbody>\n",
       "    <tr>\n",
       "      <th>0</th>\n",
       "      <td>12347.0</td>\n",
       "      <td>0</td>\n",
       "      <td>122</td>\n",
       "      <td>3122.82</td>\n",
       "    </tr>\n",
       "    <tr>\n",
       "      <th>1</th>\n",
       "      <td>12348.0</td>\n",
       "      <td>3</td>\n",
       "      <td>8</td>\n",
       "      <td>677.00</td>\n",
       "    </tr>\n",
       "    <tr>\n",
       "      <th>2</th>\n",
       "      <td>12349.0</td>\n",
       "      <td>1</td>\n",
       "      <td>73</td>\n",
       "      <td>1757.55</td>\n",
       "    </tr>\n",
       "    <tr>\n",
       "      <th>3</th>\n",
       "      <td>12352.0</td>\n",
       "      <td>1</td>\n",
       "      <td>47</td>\n",
       "      <td>944.23</td>\n",
       "    </tr>\n",
       "    <tr>\n",
       "      <th>4</th>\n",
       "      <td>12353.0</td>\n",
       "      <td>7</td>\n",
       "      <td>4</td>\n",
       "      <td>89.00</td>\n",
       "    </tr>\n",
       "    <tr>\n",
       "      <th>...</th>\n",
       "      <td>...</td>\n",
       "      <td>...</td>\n",
       "      <td>...</td>\n",
       "      <td>...</td>\n",
       "    </tr>\n",
       "    <tr>\n",
       "      <th>3870</th>\n",
       "      <td>18278.0</td>\n",
       "      <td>3</td>\n",
       "      <td>9</td>\n",
       "      <td>173.90</td>\n",
       "    </tr>\n",
       "    <tr>\n",
       "      <th>3871</th>\n",
       "      <td>18281.0</td>\n",
       "      <td>6</td>\n",
       "      <td>7</td>\n",
       "      <td>80.82</td>\n",
       "    </tr>\n",
       "    <tr>\n",
       "      <th>3872</th>\n",
       "      <td>18282.0</td>\n",
       "      <td>0</td>\n",
       "      <td>13</td>\n",
       "      <td>176.60</td>\n",
       "    </tr>\n",
       "    <tr>\n",
       "      <th>3873</th>\n",
       "      <td>18283.0</td>\n",
       "      <td>0</td>\n",
       "      <td>624</td>\n",
       "      <td>1776.98</td>\n",
       "    </tr>\n",
       "    <tr>\n",
       "      <th>3874</th>\n",
       "      <td>18287.0</td>\n",
       "      <td>2</td>\n",
       "      <td>70</td>\n",
       "      <td>1837.28</td>\n",
       "    </tr>\n",
       "  </tbody>\n",
       "</table>\n",
       "<p>3875 rows × 4 columns</p>\n",
       "</div>"
      ],
      "text/plain": [
       "      CustomerID  Recency  Frequency    Total\n",
       "0        12347.0        0        122  3122.82\n",
       "1        12348.0        3          8   677.00\n",
       "2        12349.0        1         73  1757.55\n",
       "3        12352.0        1         47   944.23\n",
       "4        12353.0        7          4    89.00\n",
       "...          ...      ...        ...      ...\n",
       "3870     18278.0        3          9   173.90\n",
       "3871     18281.0        6          7    80.82\n",
       "3872     18282.0        0         13   176.60\n",
       "3873     18283.0        0        624  1776.98\n",
       "3874     18287.0        2         70  1837.28\n",
       "\n",
       "[3875 rows x 4 columns]"
      ]
     },
     "execution_count": 31,
     "metadata": {},
     "output_type": "execute_result"
    }
   ],
   "source": [
    "RFM"
   ]
  },
  {
   "cell_type": "code",
   "execution_count": 32,
   "metadata": {
    "id": "urSOHZQk_QOv"
   },
   "outputs": [],
   "source": [
    "RFM = RFM.drop('CustomerID', axis = 1)"
   ]
  },
  {
   "cell_type": "code",
   "execution_count": 33,
   "metadata": {
    "id": "pkuFc6G7Srgf"
   },
   "outputs": [],
   "source": [
    "from sklearn.cluster import KMeans\n",
    "Sum_of_squared_distances = []\n",
    "K = range(1,10)\n",
    "for k in K:\n",
    "    km = KMeans(n_clusters=k) \n",
    "    km = km.fit(RFM)\n",
    "    Sum_of_squared_distances.append(km.inertia_)"
   ]
  },
  {
   "cell_type": "code",
   "execution_count": 34,
   "metadata": {
    "colab": {
     "base_uri": "https://localhost:8080/"
    },
    "id": "pK6zdAyPVYiv",
    "outputId": "eeb83d35-5816-48ae-f73d-279a707d6ef2"
   },
   "outputs": [
    {
     "data": {
      "text/plain": [
       "[173797984779.1986,\n",
       " 57383923068.81348,\n",
       " 25801017083.058533,\n",
       " 16982190755.20041,\n",
       " 10035621714.874516,\n",
       " 7628870125.358444,\n",
       " 5415517736.651901,\n",
       " 3736067897.1452518,\n",
       " 2810484350.765555]"
      ]
     },
     "execution_count": 34,
     "metadata": {},
     "output_type": "execute_result"
    }
   ],
   "source": [
    "Sum_of_squared_distances"
   ]
  },
  {
   "cell_type": "code",
   "execution_count": 35,
   "metadata": {
    "colab": {
     "base_uri": "https://localhost:8080/",
     "height": 276
    },
    "id": "jY3DRsieahcx",
    "outputId": "d665f3d5-bde0-4b30-f14a-c98a092d90b9"
   },
   "outputs": [
    {
     "data": {
      "image/png": "[encoded data removed]",
      "text/plain": [
       "<Figure size 432x288 with 1 Axes>"
      ]
     },
     "metadata": {
      "needs_background": "light"
     },
     "output_type": "display_data"
    }
   ],
   "source": [
    "plt.plot( [x for x in range(1,10)], Sum_of_squared_distances )\n",
    "plt.show()"
   ]
  },
  {
   "cell_type": "markdown",
   "metadata": {
    "id": "EgCNKaMegVtD"
   },
   "source": [
    "We can see a clear elbow at 3. Hence K = 3 is the optimum value of k.Thus there are 3 clusters"
   ]
  },
  {
   "cell_type": "markdown",
   "metadata": {
    "id": "LvLe6mpmgl0A"
   },
   "source": [
    "### Question 5: Creating cluster segments"
   ]
  },
  {
   "cell_type": "code",
   "execution_count": 36,
   "metadata": {
    "id": "EZfpmihvgdOx"
   },
   "outputs": [],
   "source": [
    "KMeans_model = KMeans(n_clusters = 3)\n",
    "predictions = KMeans_model.fit_predict(RFM)"
   ]
  },
  {
   "cell_type": "code",
   "execution_count": 37,
   "metadata": {
    "colab": {
     "base_uri": "https://localhost:8080/"
    },
    "id": "M4fnr5bqszB3",
    "outputId": "bcb4c180-cb84-4596-c0d9-9665a3322830"
   },
   "outputs": [
    {
     "name": "stdout",
     "output_type": "stream",
     "text": [
      "[0 0 0 ... 0 0 0]\n"
     ]
    }
   ],
   "source": [
    "print(predictions)"
   ]
  },
  {
   "cell_type": "markdown",
   "metadata": {
    "id": "YrJ-4qcf2Rqu"
   },
   "source": [
    "### Question 6: Plotting"
   ]
  },
  {
   "cell_type": "code",
   "execution_count": 38,
   "metadata": {
    "id": "U7j-xWhmtkAs"
   },
   "outputs": [],
   "source": [
    "clusters = KMeans_model.labels_"
   ]
  },
  {
   "cell_type": "code",
   "execution_count": 39,
   "metadata": {
    "id": "3Sl9QW0c5nHz"
   },
   "outputs": [],
   "source": [
    "RFM['labels'] = predictions"
   ]
  },
  {
   "cell_type": "code",
   "execution_count": 40,
   "metadata": {
    "colab": {
     "base_uri": "https://localhost:8080/",
     "height": 1000
    },
    "id": "FVf7MBZo6CwH",
    "outputId": "98e06738-2467-409d-fe67-e6a10e1af263"
   },
   "outputs": [
    {
     "data": {
      "text/plain": [
       "<seaborn.axisgrid.FacetGrid at 0x7fc3c2e81610>"
      ]
     },
     "execution_count": 40,
     "metadata": {},
     "output_type": "execute_result"
    },
    {
     "data": {
      "image/png": "[encoded data removed]",
      "text/plain": [
       "<Figure size 762.375x1800 with 9 Axes>"
      ]
     },
     "metadata": {
      "needs_background": "light"
     },
     "output_type": "display_data"
    }
   ],
   "source": [
    "sns.lmplot(x='Frequency', y='Total', col='Recency', \n",
    "           hue='labels', data=RFM, \n",
    "           col_wrap=2, fit_reg=False, \n",
    "           markers=['o', 'x', '^'])"
   ]
  },
  {
   "cell_type": "markdown",
   "metadata": {
    "id": "8CG8Tz1H7qf1"
   },
   "source": [
    "### Question 7:"
   ]
  },
  {
   "cell_type": "code",
   "execution_count": 41,
   "metadata": {
    "colab": {
     "base_uri": "https://localhost:8080/"
    },
    "id": "Gt_rANFd7pnZ",
    "outputId": "b4ee4783-d8aa-41bb-e1cb-595449f57329"
   },
   "outputs": [
    {
     "name": "stdout",
     "output_type": "stream",
     "text": [
      "[[2.29812695e+00 7.20208117e+01 1.18827605e+03]\n",
      " [0.00000000e+00 1.77575000e+03 1.69562410e+05]\n",
      " [2.59259259e-01 9.60407407e+02 3.73294022e+04]]\n"
     ]
    }
   ],
   "source": [
    "print(KMeans_model.cluster_centers_)"
   ]
  },
  {
   "cell_type": "code",
   "execution_count": 42,
   "metadata": {
    "colab": {
     "base_uri": "https://localhost:8080/"
    },
    "id": "TvGssWIj_7JC",
    "outputId": "ec064a5d-a304-4ce2-ea79-c448b7ea3e49"
   },
   "outputs": [
    {
     "data": {
      "text/plain": [
       "Index(['Recency', 'Frequency', 'Total', 'labels'], dtype='object')"
      ]
     },
     "execution_count": 42,
     "metadata": {},
     "output_type": "execute_result"
    }
   ],
   "source": [
    "RFM.columns"
   ]
  },
  {
   "cell_type": "markdown",
   "metadata": {
    "id": "BBHi_k_w-6c4"
   },
   "source": [
    "Ignoring the just added labels column, We created the cluster using Recency, Frequency, Total. \n",
    "\n",
    "#### Cluster 0:\n",
    "<br>\n",
    "When comparing to other cluster centres, we find that the recency of this group is the highest(worst), Total amount spent is least, and their frequency is the least. This group of customers can thus be classified as having already stopped visiting/ in danger of stopping further purchases at the store.\n",
    "\n",
    "#### Cluster 1:\n",
    "<br>\n",
    "When comparing to other clusters it is apparent that this group has the lowest recency(best), amount spent is the highest, frequency of visits is the highest.All of these indicate that this group or customers are loyal customers.\n",
    "\n",
    "#### Cluster 2:\n",
    "<br>\n",
    "Finally with this cluster, The values seem to be between the other 2 clusters. These customers are either New  customers which wanted to try out the store, or are customers which visit other stores much like this one. \n",
    "\n"
   ]
  },
  {
   "cell_type": "code",
   "execution_count": 43,
   "metadata": {
    "id": "KDahtBKTHvCS"
   },
   "outputs": [],
   "source": [
    "from sklearn.cluster import AgglomerativeClustering"
   ]
  },
  {
   "cell_type": "code",
   "execution_count": 44,
   "metadata": {
    "id": "Ge3Zp_6IH67b"
   },
   "outputs": [],
   "source": [
    "AggCluster = AgglomerativeClustering(n_clusters = 3, compute_distances = True)"
   ]
  },
  {
   "cell_type": "code",
   "execution_count": 45,
   "metadata": {
    "id": "ZP56km42Iql7"
   },
   "outputs": [],
   "source": [
    "RFM = RFM.drop('labels', axis = 1)"
   ]
  },
  {
   "cell_type": "code",
   "execution_count": 46,
   "metadata": {
    "id": "QBQdJVfLIEVk"
   },
   "outputs": [],
   "source": [
    "model = AggCluster.fit(RFM)"
   ]
  },
  {
   "cell_type": "code",
   "execution_count": 47,
   "metadata": {
    "colab": {
     "base_uri": "https://localhost:8080/",
     "height": 487
    },
    "id": "nU_w7LpMLGya",
    "outputId": "929b4cd9-ac93-4c2f-a128-5b47fd4e0a42"
   },
   "outputs": [
    {
     "data": {
      "image/png": "[encoded data removed]",
      "text/plain": [
       "<Figure size 1080x576 with 1 Axes>"
      ]
     },
     "metadata": {
      "needs_background": "light"
     },
     "output_type": "display_data"
    }
   ],
   "source": [
    "from scipy.cluster.hierarchy import dendrogram\n",
    "def plot_dendrogram(model, **kwargs):\n",
    "    \n",
    "    counts = np.zeros(model.children_.shape[0])\n",
    "    n_samples = len(model.labels_)\n",
    "    for i, merge in enumerate(model.children_):\n",
    "        current_count = 0\n",
    "        for child_idx in merge:\n",
    "            if child_idx < n_samples:\n",
    "                current_count += 1\n",
    "            else:\n",
    "                current_count += counts[child_idx - n_samples]\n",
    "        counts[i] = current_count\n",
    "\n",
    "    linkage_matrix = np.column_stack([model.children_, model.distances_, counts]).astype(float)\n",
    "\n",
    "    dendrogram(linkage_matrix, **kwargs)\n",
    "    \n",
    "\n",
    "plt.figure(figsize=(15,8))\n",
    "plt.title('Hierarchical Clustering Dendrogram')\n",
    "plot_dendrogram(model, truncate_mode='level', p=3)\n",
    "plt.xlabel('Number of points in node')\n",
    "plt.ylabel('Number of clusters')\n",
    "plt.show()"
   ]
  },
  {
   "cell_type": "code",
   "execution_count": 48,
   "metadata": {
    "id": "XSq3pqzhMMHE"
   },
   "outputs": [],
   "source": [
    "labels = model.labels_"
   ]
  },
  {
   "cell_type": "code",
   "execution_count": 49,
   "metadata": {
    "colab": {
     "base_uri": "https://localhost:8080/"
    },
    "id": "YaghDZnKbMnP",
    "outputId": "540b2997-ea18-401c-ae25-d2809afdc2a3"
   },
   "outputs": [
    {
     "data": {
      "text/plain": [
       "3"
      ]
     },
     "execution_count": 49,
     "metadata": {},
     "output_type": "execute_result"
    }
   ],
   "source": [
    "(clusters == labels).sum()"
   ]
  },
  {
   "cell_type": "code",
   "execution_count": 50,
   "metadata": {
    "colab": {
     "base_uri": "https://localhost:8080/"
    },
    "id": "tn75OzNhbqNr",
    "outputId": "afa3038a-8b2d-4ea8-baa8-bfba0cb1064a"
   },
   "outputs": [
    {
     "data": {
      "text/plain": [
       "3875"
      ]
     },
     "execution_count": 50,
     "metadata": {},
     "output_type": "execute_result"
    }
   ],
   "source": [
    "clusters.shape[0]"
   ]
  },
  {
   "cell_type": "code",
   "execution_count": 51,
   "metadata": {
    "colab": {
     "base_uri": "https://localhost:8080/"
    },
    "id": "ON6Nm_LjbuWF",
    "outputId": "2ff05211-6e57-416f-a012-f4cb4dfdb023"
   },
   "outputs": [
    {
     "data": {
      "text/plain": [
       "3872"
      ]
     },
     "execution_count": 51,
     "metadata": {},
     "output_type": "execute_result"
    }
   ],
   "source": [
    "(clusters != labels).sum()"
   ]
  },
  {
   "cell_type": "markdown",
   "metadata": {
    "id": "YH8FXbxdctMb"
   },
   "source": [
    "As we can see above, The clusters made by both Kmeans and Agglomerative clustering for the given data are almost the same with an exception of customer being classified differently. This customer is:"
   ]
  },
  {
   "cell_type": "code",
   "execution_count": 52,
   "metadata": {
    "colab": {
     "base_uri": "https://localhost:8080/"
    },
    "id": "m6PVwI54c-H2",
    "outputId": "4c0888bb-7c92-4281-b723-042d17c0c32a"
   },
   "outputs": [
    {
     "data": {
      "text/plain": [
       "0       12347.0\n",
       "1       12348.0\n",
       "2       12349.0\n",
       "3       12352.0\n",
       "4       12353.0\n",
       "         ...   \n",
       "3870    18278.0\n",
       "3871    18281.0\n",
       "3872    18282.0\n",
       "3873    18283.0\n",
       "3874    18287.0\n",
       "Name: CustomerID, Length: 3872, dtype: float64"
      ]
     },
     "execution_count": 52,
     "metadata": {},
     "output_type": "execute_result"
    }
   ],
   "source": [
    "RF[(clusters != labels)]['CustomerID']"
   ]
  },
  {
   "cell_type": "code",
   "execution_count": 53,
   "metadata": {
    "colab": {
     "base_uri": "https://localhost:8080/",
     "height": 98
    },
    "id": "MsQCF5FpdODI",
    "outputId": "8152fdac-9dd8-4804-9998-11f98f72fcaa"
   },
   "outputs": [
    {
     "name": "stdout",
     "output_type": "stream",
     "text": [
      "RFM of customer 14911\n"
     ]
    },
    {
     "data": {
      "text/html": [
       "<div>\n",
       "<style scoped>\n",
       "    .dataframe tbody tr th:only-of-type {\n",
       "        vertical-align: middle;\n",
       "    }\n",
       "\n",
       "    .dataframe tbody tr th {\n",
       "        vertical-align: top;\n",
       "    }\n",
       "\n",
       "    .dataframe thead th {\n",
       "        text-align: right;\n",
       "    }\n",
       "</style>\n",
       "<table border=\"1\" class=\"dataframe\">\n",
       "  <thead>\n",
       "    <tr style=\"text-align: right;\">\n",
       "      <th></th>\n",
       "      <th>Recency</th>\n",
       "      <th>Frequency</th>\n",
       "      <th>Total</th>\n",
       "    </tr>\n",
       "  </thead>\n",
       "  <tbody>\n",
       "    <tr>\n",
       "      <th>0</th>\n",
       "      <td>0</td>\n",
       "      <td>122</td>\n",
       "      <td>3122.82</td>\n",
       "    </tr>\n",
       "    <tr>\n",
       "      <th>1</th>\n",
       "      <td>3</td>\n",
       "      <td>8</td>\n",
       "      <td>677.00</td>\n",
       "    </tr>\n",
       "    <tr>\n",
       "      <th>2</th>\n",
       "      <td>1</td>\n",
       "      <td>73</td>\n",
       "      <td>1757.55</td>\n",
       "    </tr>\n",
       "    <tr>\n",
       "      <th>3</th>\n",
       "      <td>1</td>\n",
       "      <td>47</td>\n",
       "      <td>944.23</td>\n",
       "    </tr>\n",
       "    <tr>\n",
       "      <th>4</th>\n",
       "      <td>7</td>\n",
       "      <td>4</td>\n",
       "      <td>89.00</td>\n",
       "    </tr>\n",
       "    <tr>\n",
       "      <th>...</th>\n",
       "      <td>...</td>\n",
       "      <td>...</td>\n",
       "      <td>...</td>\n",
       "    </tr>\n",
       "    <tr>\n",
       "      <th>3870</th>\n",
       "      <td>3</td>\n",
       "      <td>9</td>\n",
       "      <td>173.90</td>\n",
       "    </tr>\n",
       "    <tr>\n",
       "      <th>3871</th>\n",
       "      <td>6</td>\n",
       "      <td>7</td>\n",
       "      <td>80.82</td>\n",
       "    </tr>\n",
       "    <tr>\n",
       "      <th>3872</th>\n",
       "      <td>0</td>\n",
       "      <td>13</td>\n",
       "      <td>176.60</td>\n",
       "    </tr>\n",
       "    <tr>\n",
       "      <th>3873</th>\n",
       "      <td>0</td>\n",
       "      <td>624</td>\n",
       "      <td>1776.98</td>\n",
       "    </tr>\n",
       "    <tr>\n",
       "      <th>3874</th>\n",
       "      <td>2</td>\n",
       "      <td>70</td>\n",
       "      <td>1837.28</td>\n",
       "    </tr>\n",
       "  </tbody>\n",
       "</table>\n",
       "<p>3872 rows × 3 columns</p>\n",
       "</div>"
      ],
      "text/plain": [
       "      Recency  Frequency    Total\n",
       "0           0        122  3122.82\n",
       "1           3          8   677.00\n",
       "2           1         73  1757.55\n",
       "3           1         47   944.23\n",
       "4           7          4    89.00\n",
       "...       ...        ...      ...\n",
       "3870        3          9   173.90\n",
       "3871        6          7    80.82\n",
       "3872        0         13   176.60\n",
       "3873        0        624  1776.98\n",
       "3874        2         70  1837.28\n",
       "\n",
       "[3872 rows x 3 columns]"
      ]
     },
     "execution_count": 53,
     "metadata": {},
     "output_type": "execute_result"
    }
   ],
   "source": [
    "print(\"RFM of customer 14911\")\n",
    "RFM[(clusters != labels)]"
   ]
  },
  {
   "cell_type": "code",
   "execution_count": 54,
   "metadata": {
    "colab": {
     "base_uri": "https://localhost:8080/"
    },
    "id": "RURBG6iRdeNG",
    "outputId": "c9b4ba4e-ce45-459f-ccdf-26c7d685f3ba"
   },
   "outputs": [
    {
     "name": "stdout",
     "output_type": "stream",
     "text": [
      "this customer was classified as [0 0 0 ... 0 0 0] in Kmeans and as [2 2 2 ... 2 2 2] in Agglomerative Clustering\n"
     ]
    }
   ],
   "source": [
    "print(\"this customer was classified as\", clusters[(clusters != labels)], \"in Kmeans and as\",  \n",
    "      model.labels_[(clusters != labels)], \"in Agglomerative Clustering\")"
   ]
  },
  {
   "cell_type": "markdown",
   "metadata": {
    "id": "YLQ1q4TBeiTt"
   },
   "source": [
    "As we can see, recency as 0, moderate frequency, High spending. It is due to the moderate frequency that this discrepancy has occured between the two models"
   ]
  },
  {
   "cell_type": "markdown",
   "metadata": {},
   "source": [
    "###THE END\n"
   ]
  },
  {
   "cell_type": "code",
   "execution_count": null,
   "metadata": {},
   "outputs": [],
   "source": []
  }
 ],
 "metadata": {
  "colab": {
   "collapsed_sections": [],
   "name": "Lab7_Exercse1_Mihir.ipynb",
   "provenance": []
  },
  "kernelspec": {
   "display_name": "Python 3 (ipykernel)",
   "language": "python",
   "name": "python3"
  },
  "language_info": {
   "codemirror_mode": {
    "name": "ipython",
    "version": 3
   },
   "file_extension": ".py",
   "mimetype": "text/x-python",
   "name": "python",
   "nbconvert_exporter": "python",
   "pygments_lexer": "ipython3",
   "version": "3.9.7"
  }
 },
 "nbformat": 4,
 "nbformat_minor": 1
}
