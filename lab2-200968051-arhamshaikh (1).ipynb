{
 "cells": [
  {
   "cell_type": "code",
   "execution_count": null,
   "id": "6a4480c9",
   "metadata": {},
   "outputs": [],
   "source": [
    "BOLLYWOOD DATASET ANALYSIS"
   ]
  },
  {
   "cell_type": "code",
   "execution_count": 2,
   "id": "f82ef1bd",
   "metadata": {},
   "outputs": [
    {
     "data": {
      "text/html": [
       "<div>\n",
       "<style scoped>\n",
       "    .dataframe tbody tr th:only-of-type {\n",
       "        vertical-align: middle;\n",
       "    }\n",
       "\n",
       "    .dataframe tbody tr th {\n",
       "        vertical-align: top;\n",
       "    }\n",
       "\n",
       "    .dataframe thead th {\n",
       "        text-align: right;\n",
       "    }\n",
       "</style>\n",
       "<table border=\"1\" class=\"dataframe\">\n",
       "  <thead>\n",
       "    <tr style=\"text-align: right;\">\n",
       "      <th></th>\n",
       "      <th>SlNo</th>\n",
       "      <th>Release Date</th>\n",
       "      <th>MovieName</th>\n",
       "      <th>ReleaseTime</th>\n",
       "      <th>Genre</th>\n",
       "      <th>Budget</th>\n",
       "      <th>BoxOfficeCollection</th>\n",
       "      <th>YoutubeViews</th>\n",
       "      <th>YoutubeLikes</th>\n",
       "      <th>YoutubeDislikes</th>\n",
       "    </tr>\n",
       "  </thead>\n",
       "  <tbody>\n",
       "    <tr>\n",
       "      <th>0</th>\n",
       "      <td>1</td>\n",
       "      <td>18-Apr-14</td>\n",
       "      <td>2 States</td>\n",
       "      <td>LW</td>\n",
       "      <td>Romance</td>\n",
       "      <td>36</td>\n",
       "      <td>104.00</td>\n",
       "      <td>8576361</td>\n",
       "      <td>26622</td>\n",
       "      <td>2527</td>\n",
       "    </tr>\n",
       "    <tr>\n",
       "      <th>1</th>\n",
       "      <td>2</td>\n",
       "      <td>4-Jan-13</td>\n",
       "      <td>Table No. 21</td>\n",
       "      <td>N</td>\n",
       "      <td>Thriller</td>\n",
       "      <td>10</td>\n",
       "      <td>12.00</td>\n",
       "      <td>1087320</td>\n",
       "      <td>1129</td>\n",
       "      <td>137</td>\n",
       "    </tr>\n",
       "    <tr>\n",
       "      <th>2</th>\n",
       "      <td>3</td>\n",
       "      <td>18-Jul-14</td>\n",
       "      <td>Amit Sahni Ki List</td>\n",
       "      <td>N</td>\n",
       "      <td>Comedy</td>\n",
       "      <td>10</td>\n",
       "      <td>4.00</td>\n",
       "      <td>572336</td>\n",
       "      <td>586</td>\n",
       "      <td>54</td>\n",
       "    </tr>\n",
       "    <tr>\n",
       "      <th>3</th>\n",
       "      <td>4</td>\n",
       "      <td>4-Jan-13</td>\n",
       "      <td>Rajdhani Express</td>\n",
       "      <td>N</td>\n",
       "      <td>Drama</td>\n",
       "      <td>7</td>\n",
       "      <td>0.35</td>\n",
       "      <td>42626</td>\n",
       "      <td>86</td>\n",
       "      <td>19</td>\n",
       "    </tr>\n",
       "    <tr>\n",
       "      <th>4</th>\n",
       "      <td>5</td>\n",
       "      <td>4-Jul-14</td>\n",
       "      <td>Bobby Jasoos</td>\n",
       "      <td>N</td>\n",
       "      <td>Comedy</td>\n",
       "      <td>18</td>\n",
       "      <td>10.80</td>\n",
       "      <td>3113427</td>\n",
       "      <td>4512</td>\n",
       "      <td>1224</td>\n",
       "    </tr>\n",
       "    <tr>\n",
       "      <th>...</th>\n",
       "      <td>...</td>\n",
       "      <td>...</td>\n",
       "      <td>...</td>\n",
       "      <td>...</td>\n",
       "      <td>...</td>\n",
       "      <td>...</td>\n",
       "      <td>...</td>\n",
       "      <td>...</td>\n",
       "      <td>...</td>\n",
       "      <td>...</td>\n",
       "    </tr>\n",
       "    <tr>\n",
       "      <th>144</th>\n",
       "      <td>145</td>\n",
       "      <td>27-Feb-15</td>\n",
       "      <td>Dum Laga Ke Haisha</td>\n",
       "      <td>N</td>\n",
       "      <td>Comedy</td>\n",
       "      <td>15</td>\n",
       "      <td>30.00</td>\n",
       "      <td>3250917</td>\n",
       "      <td>8185</td>\n",
       "      <td>615</td>\n",
       "    </tr>\n",
       "    <tr>\n",
       "      <th>145</th>\n",
       "      <td>146</td>\n",
       "      <td>13-Mar-15</td>\n",
       "      <td>NH10</td>\n",
       "      <td>N</td>\n",
       "      <td>Thriller</td>\n",
       "      <td>13</td>\n",
       "      <td>32.10</td>\n",
       "      <td>5592977</td>\n",
       "      <td>15464</td>\n",
       "      <td>1513</td>\n",
       "    </tr>\n",
       "    <tr>\n",
       "      <th>146</th>\n",
       "      <td>147</td>\n",
       "      <td>20-Mar-15</td>\n",
       "      <td>Dilliwali Zaalim Girlfriend</td>\n",
       "      <td>N</td>\n",
       "      <td>Comedy</td>\n",
       "      <td>32</td>\n",
       "      <td>12.00</td>\n",
       "      <td>2316047</td>\n",
       "      <td>4289</td>\n",
       "      <td>807</td>\n",
       "    </tr>\n",
       "    <tr>\n",
       "      <th>147</th>\n",
       "      <td>148</td>\n",
       "      <td>20-Mar-15</td>\n",
       "      <td>Hunterrr</td>\n",
       "      <td>N</td>\n",
       "      <td>Comedy</td>\n",
       "      <td>5</td>\n",
       "      <td>11.89</td>\n",
       "      <td>4674795</td>\n",
       "      <td>3706</td>\n",
       "      <td>762</td>\n",
       "    </tr>\n",
       "    <tr>\n",
       "      <th>148</th>\n",
       "      <td>149</td>\n",
       "      <td>23-May-14</td>\n",
       "      <td>Kochadaiiyaan</td>\n",
       "      <td>HS</td>\n",
       "      <td>Action</td>\n",
       "      <td>150</td>\n",
       "      <td>120.00</td>\n",
       "      <td>4740727</td>\n",
       "      <td>13466</td>\n",
       "      <td>2649</td>\n",
       "    </tr>\n",
       "  </tbody>\n",
       "</table>\n",
       "<p>149 rows × 10 columns</p>\n",
       "</div>"
      ],
      "text/plain": [
       "     SlNo Release Date                    MovieName ReleaseTime      Genre  \\\n",
       "0       1    18-Apr-14                     2 States          LW    Romance   \n",
       "1       2     4-Jan-13                 Table No. 21           N  Thriller    \n",
       "2       3    18-Jul-14           Amit Sahni Ki List           N     Comedy   \n",
       "3       4     4-Jan-13             Rajdhani Express           N     Drama    \n",
       "4       5     4-Jul-14                 Bobby Jasoos           N     Comedy   \n",
       "..    ...          ...                          ...         ...        ...   \n",
       "144   145    27-Feb-15           Dum Laga Ke Haisha           N     Comedy   \n",
       "145   146    13-Mar-15                         NH10           N   Thriller   \n",
       "146   147    20-Mar-15  Dilliwali Zaalim Girlfriend           N     Comedy   \n",
       "147   148    20-Mar-15                     Hunterrr           N     Comedy   \n",
       "148   149    23-May-14                Kochadaiiyaan          HS     Action   \n",
       "\n",
       "     Budget  BoxOfficeCollection  YoutubeViews  YoutubeLikes  YoutubeDislikes  \n",
       "0        36               104.00       8576361         26622             2527  \n",
       "1        10                12.00       1087320          1129              137  \n",
       "2        10                 4.00        572336           586               54  \n",
       "3         7                 0.35         42626            86               19  \n",
       "4        18                10.80       3113427          4512             1224  \n",
       "..      ...                  ...           ...           ...              ...  \n",
       "144      15                30.00       3250917          8185              615  \n",
       "145      13                32.10       5592977         15464             1513  \n",
       "146      32                12.00       2316047          4289              807  \n",
       "147       5                11.89       4674795          3706              762  \n",
       "148     150               120.00       4740727         13466             2649  \n",
       "\n",
       "[149 rows x 10 columns]"
      ]
     },
     "execution_count": 2,
     "metadata": {},
     "output_type": "execute_result"
    }
   ],
   "source": [
    "import pandas as pd \n",
    "import numpy as np\n",
    "import seaborn as sns\n",
    "import matplotlib.pyplot as plt\n",
    "df=pd.read_csv(r\"C:\\Users\\HP\\Downloads\\bollywood.csv\")\n",
    "df"
   ]
  },
  {
   "cell_type": "code",
   "execution_count": null,
   "id": "38a3ee8a",
   "metadata": {},
   "outputs": [],
   "source": [
    "##QUESTION 1 -How many records are present in the dataset?"
   ]
  },
  {
   "cell_type": "code",
   "execution_count": 117,
   "id": "6fb40a47",
   "metadata": {},
   "outputs": [
    {
     "data": {
      "text/plain": [
       "149"
      ]
     },
     "execution_count": 117,
     "metadata": {},
     "output_type": "execute_result"
    }
   ],
   "source": [
    "a=df.shape[0]\n",
    "a"
   ]
  },
  {
   "cell_type": "code",
   "execution_count": 9,
   "id": "86de4437",
   "metadata": {},
   "outputs": [],
   "source": [
    "##QUESTION2 - How many movies were released in each Release Time?Sort number of releases in Release Time  in descending order. \n"
   ]
  },
  {
   "cell_type": "code",
   "execution_count": 10,
   "id": "2ea594cf",
   "metadata": {},
   "outputs": [
    {
     "data": {
      "text/plain": [
       "N     99\n",
       "HS    18\n",
       "FS    17\n",
       "LW    15\n",
       "Name: ReleaseTime, dtype: int64"
      ]
     },
     "execution_count": 10,
     "metadata": {},
     "output_type": "execute_result"
    }
   ],
   "source": [
    "df.ReleaseTime.value_counts(sort=True, ascending=False)"
   ]
  },
  {
   "cell_type": "code",
   "execution_count": 11,
   "id": "e4eabfdb",
   "metadata": {},
   "outputs": [],
   "source": [
    "##QUESTION3 - Which genre had highest number of releases during the Festive Season?"
   ]
  },
  {
   "cell_type": "code",
   "execution_count": 55,
   "id": "e5e26f7a",
   "metadata": {},
   "outputs": [
    {
     "data": {
      "text/plain": [
       " Drama      4\n",
       "Thriller    4\n",
       "Comedy      3\n",
       "Action      3\n",
       "Romance     3\n",
       "Name: Genre, dtype: int64"
      ]
     },
     "execution_count": 55,
     "metadata": {},
     "output_type": "execute_result"
    }
   ],
   "source": [
    "n=df[df['ReleaseTime']=='FS']\n",
    "n['Genre'].value_counts()"
   ]
  },
  {
   "cell_type": "code",
   "execution_count": 26,
   "id": "2b1fa90e",
   "metadata": {},
   "outputs": [],
   "source": [
    "##QUESTION4 - How many movies in each genre got released in different release times like long weekend, festive season, etc. (Note: Do a cross tabulation between Genre andReleaseTime.)"
   ]
  },
  {
   "cell_type": "code",
   "execution_count": 65,
   "id": "f8c637aa",
   "metadata": {},
   "outputs": [
    {
     "data": {
      "text/html": [
       "<div>\n",
       "<style scoped>\n",
       "    .dataframe tbody tr th:only-of-type {\n",
       "        vertical-align: middle;\n",
       "    }\n",
       "\n",
       "    .dataframe tbody tr th {\n",
       "        vertical-align: top;\n",
       "    }\n",
       "\n",
       "    .dataframe thead th {\n",
       "        text-align: right;\n",
       "    }\n",
       "</style>\n",
       "<table border=\"1\" class=\"dataframe\">\n",
       "  <thead>\n",
       "    <tr style=\"text-align: right;\">\n",
       "      <th>Genre</th>\n",
       "      <th>Drama</th>\n",
       "      <th>Action</th>\n",
       "      <th>Action</th>\n",
       "      <th>Comedy</th>\n",
       "      <th>Romance</th>\n",
       "      <th>Thriller</th>\n",
       "      <th>Thriller</th>\n",
       "    </tr>\n",
       "    <tr>\n",
       "      <th>ReleaseTime</th>\n",
       "      <th></th>\n",
       "      <th></th>\n",
       "      <th></th>\n",
       "      <th></th>\n",
       "      <th></th>\n",
       "      <th></th>\n",
       "      <th></th>\n",
       "    </tr>\n",
       "  </thead>\n",
       "  <tbody>\n",
       "    <tr>\n",
       "      <th>FS</th>\n",
       "      <td>4</td>\n",
       "      <td>3</td>\n",
       "      <td>0</td>\n",
       "      <td>3</td>\n",
       "      <td>3</td>\n",
       "      <td>4</td>\n",
       "      <td>0</td>\n",
       "    </tr>\n",
       "    <tr>\n",
       "      <th>HS</th>\n",
       "      <td>6</td>\n",
       "      <td>3</td>\n",
       "      <td>0</td>\n",
       "      <td>5</td>\n",
       "      <td>3</td>\n",
       "      <td>1</td>\n",
       "      <td>0</td>\n",
       "    </tr>\n",
       "    <tr>\n",
       "      <th>LW</th>\n",
       "      <td>1</td>\n",
       "      <td>3</td>\n",
       "      <td>0</td>\n",
       "      <td>5</td>\n",
       "      <td>4</td>\n",
       "      <td>1</td>\n",
       "      <td>1</td>\n",
       "    </tr>\n",
       "    <tr>\n",
       "      <th>N</th>\n",
       "      <td>24</td>\n",
       "      <td>12</td>\n",
       "      <td>3</td>\n",
       "      <td>23</td>\n",
       "      <td>15</td>\n",
       "      <td>20</td>\n",
       "      <td>2</td>\n",
       "    </tr>\n",
       "  </tbody>\n",
       "</table>\n",
       "</div>"
      ],
      "text/plain": [
       "Genre         Drama   Action  Action   Comedy  Romance  Thriller  Thriller \n",
       "ReleaseTime                                                                \n",
       "FS                 4       3        0       3        3         4          0\n",
       "HS                 6       3        0       5        3         1          0\n",
       "LW                 1       3        0       5        4         1          1\n",
       "N                 24      12        3      23       15        20          2"
      ]
     },
     "execution_count": 65,
     "metadata": {},
     "output_type": "execute_result"
    }
   ],
   "source": [
    "pd.crosstab(df['ReleaseTime'], df['Genre'])"
   ]
  },
  {
   "cell_type": "code",
   "execution_count": 44,
   "id": "9eefac67",
   "metadata": {},
   "outputs": [],
   "source": [
    "##Question5 - In which yearwere maximum number movie released? (Note: Extract a new column called yearfromReleaseDatecolumn.)"
   ]
  },
  {
   "cell_type": "code",
   "execution_count": 20,
   "id": "263435b7",
   "metadata": {},
   "outputs": [
    {
     "data": {
      "text/plain": [
       "2014    70\n",
       "Name: Release Year, dtype: int64"
      ]
     },
     "execution_count": 20,
     "metadata": {},
     "output_type": "execute_result"
    }
   ],
   "source": [
    "df['Release Date'] = pd.to_datetime(df['Release Date'])\n",
    "df['Release Year'] = df['Release Date'].apply(lambda s:s.year)\n",
    "df['Release Month'] = df['Release Date'].apply(lambda s:s.month)\n",
    "year_counts = df['Release Year'].value_counts()\n",
    "year_counts.loc[year_counts == year_counts.max()]"
   ]
  },
  {
   "cell_type": "code",
   "execution_count": 67,
   "id": "2a49250f",
   "metadata": {},
   "outputs": [],
   "source": [
    "##Question 6 - Which month of the year typically sees most releases of high budgeted movies, that is, movies with budget of 30crore or more?"
   ]
  },
  {
   "cell_type": "code",
   "execution_count": 79,
   "id": "b608f732",
   "metadata": {},
   "outputs": [
    {
     "data": {
      "text/plain": [
       "2     8\n",
       "8     7\n",
       "1     6\n",
       "11    6\n",
       "6     5\n",
       "7     5\n",
       "9     4\n",
       "10    4\n",
       "3     3\n",
       "4     3\n",
       "5     3\n",
       "12    2\n",
       "Name: Month, dtype: int64"
      ]
     },
     "execution_count": 79,
     "metadata": {},
     "output_type": "execute_result"
    }
   ],
   "source": [
    "highest=df[df['Budget']>=30]\n",
    "df['Month']= df['Release Date'].dt.month\n",
    "a=highest['Month'].value_counts()\n",
    "a"
   ]
  },
  {
   "cell_type": "code",
   "execution_count": 80,
   "id": "5d2d54b3",
   "metadata": {},
   "outputs": [],
   "source": [
    "##QUESTION 7 - Which are the top 10 flop movies with minimumreturn on investment (ROI)? Calculate return on investment (ROI) as (BoxOfficeCollection–Budget) / Budget."
   ]
  },
  {
   "cell_type": "code",
   "execution_count": 96,
   "id": "2d8aef16",
   "metadata": {},
   "outputs": [
    {
     "data": {
      "text/html": [
       "<div>\n",
       "<style scoped>\n",
       "    .dataframe tbody tr th:only-of-type {\n",
       "        vertical-align: middle;\n",
       "    }\n",
       "\n",
       "    .dataframe tbody tr th {\n",
       "        vertical-align: top;\n",
       "    }\n",
       "\n",
       "    .dataframe thead th {\n",
       "        text-align: right;\n",
       "    }\n",
       "</style>\n",
       "<table border=\"1\" class=\"dataframe\">\n",
       "  <thead>\n",
       "    <tr style=\"text-align: right;\">\n",
       "      <th></th>\n",
       "      <th>SlNo</th>\n",
       "      <th>Release Date</th>\n",
       "      <th>MovieName</th>\n",
       "      <th>ReleaseTime</th>\n",
       "      <th>Genre</th>\n",
       "      <th>Budget</th>\n",
       "      <th>BoxOfficeCollection</th>\n",
       "      <th>YoutubeViews</th>\n",
       "      <th>YoutubeLikes</th>\n",
       "      <th>YoutubeDislikes</th>\n",
       "      <th>Year</th>\n",
       "      <th>month</th>\n",
       "      <th>Month</th>\n",
       "      <th>ROI</th>\n",
       "    </tr>\n",
       "  </thead>\n",
       "  <tbody>\n",
       "    <tr>\n",
       "      <th>9</th>\n",
       "      <td>10</td>\n",
       "      <td>2013-01-11</td>\n",
       "      <td>Gangoobai</td>\n",
       "      <td>N</td>\n",
       "      <td>Drama</td>\n",
       "      <td>2</td>\n",
       "      <td>0.01</td>\n",
       "      <td>4354</td>\n",
       "      <td>1</td>\n",
       "      <td>1</td>\n",
       "      <td>2013</td>\n",
       "      <td>1</td>\n",
       "      <td>1</td>\n",
       "      <td>-0.99</td>\n",
       "    </tr>\n",
       "    <tr>\n",
       "      <th>15</th>\n",
       "      <td>16</td>\n",
       "      <td>2013-01-18</td>\n",
       "      <td>Bandook</td>\n",
       "      <td>N</td>\n",
       "      <td>Action</td>\n",
       "      <td>4</td>\n",
       "      <td>0.09</td>\n",
       "      <td>28391</td>\n",
       "      <td>8</td>\n",
       "      <td>14</td>\n",
       "      <td>2013</td>\n",
       "      <td>1</td>\n",
       "      <td>1</td>\n",
       "      <td>-0.91</td>\n",
       "    </tr>\n",
       "    <tr>\n",
       "      <th>53</th>\n",
       "      <td>54</td>\n",
       "      <td>2013-03-22</td>\n",
       "      <td>Sona Spa</td>\n",
       "      <td>N</td>\n",
       "      <td>Thriller</td>\n",
       "      <td>10</td>\n",
       "      <td>0.24</td>\n",
       "      <td>79430</td>\n",
       "      <td>61</td>\n",
       "      <td>112</td>\n",
       "      <td>2013</td>\n",
       "      <td>3</td>\n",
       "      <td>3</td>\n",
       "      <td>-0.76</td>\n",
       "    </tr>\n",
       "    <tr>\n",
       "      <th>3</th>\n",
       "      <td>4</td>\n",
       "      <td>2013-01-04</td>\n",
       "      <td>Rajdhani Express</td>\n",
       "      <td>N</td>\n",
       "      <td>Drama</td>\n",
       "      <td>7</td>\n",
       "      <td>0.35</td>\n",
       "      <td>42626</td>\n",
       "      <td>86</td>\n",
       "      <td>19</td>\n",
       "      <td>2013</td>\n",
       "      <td>1</td>\n",
       "      <td>1</td>\n",
       "      <td>-0.65</td>\n",
       "    </tr>\n",
       "    <tr>\n",
       "      <th>49</th>\n",
       "      <td>50</td>\n",
       "      <td>2014-05-02</td>\n",
       "      <td>Kya Dilli Kya Lahore</td>\n",
       "      <td>HS</td>\n",
       "      <td>Drama</td>\n",
       "      <td>7</td>\n",
       "      <td>0.50</td>\n",
       "      <td>492344</td>\n",
       "      <td>2018</td>\n",
       "      <td>64</td>\n",
       "      <td>2014</td>\n",
       "      <td>5</td>\n",
       "      <td>5</td>\n",
       "      <td>-0.50</td>\n",
       "    </tr>\n",
       "    <tr>\n",
       "      <th>63</th>\n",
       "      <td>64</td>\n",
       "      <td>2014-01-17</td>\n",
       "      <td>Miss Lovely</td>\n",
       "      <td>N</td>\n",
       "      <td>Drama</td>\n",
       "      <td>5</td>\n",
       "      <td>0.70</td>\n",
       "      <td>808439</td>\n",
       "      <td>328</td>\n",
       "      <td>95</td>\n",
       "      <td>2014</td>\n",
       "      <td>1</td>\n",
       "      <td>1</td>\n",
       "      <td>-0.30</td>\n",
       "    </tr>\n",
       "    <tr>\n",
       "      <th>67</th>\n",
       "      <td>68</td>\n",
       "      <td>2014-05-02</td>\n",
       "      <td>Purani Jeans</td>\n",
       "      <td>HS</td>\n",
       "      <td>Romance</td>\n",
       "      <td>10</td>\n",
       "      <td>1.10</td>\n",
       "      <td>1537063</td>\n",
       "      <td>822</td>\n",
       "      <td>229</td>\n",
       "      <td>2014</td>\n",
       "      <td>5</td>\n",
       "      <td>5</td>\n",
       "      <td>0.10</td>\n",
       "    </tr>\n",
       "    <tr>\n",
       "      <th>121</th>\n",
       "      <td>122</td>\n",
       "      <td>2013-11-08</td>\n",
       "      <td>Satya 2</td>\n",
       "      <td>FS</td>\n",
       "      <td>Thriller</td>\n",
       "      <td>15</td>\n",
       "      <td>1.10</td>\n",
       "      <td>110315</td>\n",
       "      <td>89</td>\n",
       "      <td>26</td>\n",
       "      <td>2013</td>\n",
       "      <td>11</td>\n",
       "      <td>11</td>\n",
       "      <td>0.10</td>\n",
       "    </tr>\n",
       "    <tr>\n",
       "      <th>30</th>\n",
       "      <td>31</td>\n",
       "      <td>2014-02-07</td>\n",
       "      <td>Heartless</td>\n",
       "      <td>N</td>\n",
       "      <td>Thriller</td>\n",
       "      <td>12</td>\n",
       "      <td>1.50</td>\n",
       "      <td>4823892</td>\n",
       "      <td>5797</td>\n",
       "      <td>227</td>\n",
       "      <td>2014</td>\n",
       "      <td>2</td>\n",
       "      <td>2</td>\n",
       "      <td>0.50</td>\n",
       "    </tr>\n",
       "    <tr>\n",
       "      <th>126</th>\n",
       "      <td>127</td>\n",
       "      <td>2013-10-11</td>\n",
       "      <td>Baat Ban Gayi</td>\n",
       "      <td>FS</td>\n",
       "      <td>Comedy</td>\n",
       "      <td>4</td>\n",
       "      <td>1.50</td>\n",
       "      <td>23186</td>\n",
       "      <td>9</td>\n",
       "      <td>4</td>\n",
       "      <td>2013</td>\n",
       "      <td>10</td>\n",
       "      <td>10</td>\n",
       "      <td>0.50</td>\n",
       "    </tr>\n",
       "  </tbody>\n",
       "</table>\n",
       "</div>"
      ],
      "text/plain": [
       "     SlNo Release Date             MovieName ReleaseTime     Genre  Budget  \\\n",
       "9      10   2013-01-11             Gangoobai           N    Drama        2   \n",
       "15     16   2013-01-18               Bandook           N    Action       4   \n",
       "53     54   2013-03-22              Sona Spa           N  Thriller      10   \n",
       "3       4   2013-01-04      Rajdhani Express           N    Drama        7   \n",
       "49     50   2014-05-02  Kya Dilli Kya Lahore          HS    Drama        7   \n",
       "63     64   2014-01-17           Miss Lovely           N    Drama        5   \n",
       "67     68   2014-05-02          Purani Jeans          HS   Romance      10   \n",
       "121   122   2013-11-08               Satya 2          FS  Thriller      15   \n",
       "30     31   2014-02-07             Heartless           N  Thriller      12   \n",
       "126   127   2013-10-11         Baat Ban Gayi          FS    Comedy       4   \n",
       "\n",
       "     BoxOfficeCollection  YoutubeViews  YoutubeLikes  YoutubeDislikes  Year  \\\n",
       "9                   0.01          4354             1                1  2013   \n",
       "15                  0.09         28391             8               14  2013   \n",
       "53                  0.24         79430            61              112  2013   \n",
       "3                   0.35         42626            86               19  2013   \n",
       "49                  0.50        492344          2018               64  2014   \n",
       "63                  0.70        808439           328               95  2014   \n",
       "67                  1.10       1537063           822              229  2014   \n",
       "121                 1.10        110315            89               26  2013   \n",
       "30                  1.50       4823892          5797              227  2014   \n",
       "126                 1.50         23186             9                4  2013   \n",
       "\n",
       "     month  Month   ROI  \n",
       "9        1      1 -0.99  \n",
       "15       1      1 -0.91  \n",
       "53       3      3 -0.76  \n",
       "3        1      1 -0.65  \n",
       "49       5      5 -0.50  \n",
       "63       1      1 -0.30  \n",
       "67       5      5  0.10  \n",
       "121     11     11  0.10  \n",
       "30       2      2  0.50  \n",
       "126     10     10  0.50  "
      ]
     },
     "execution_count": 96,
     "metadata": {},
     "output_type": "execute_result"
    }
   ],
   "source": [
    "new_column=df['ROI']=df['BoxOfficeCollection'] - df['Budget'] / df['Budget']\n",
    "n=df.sort_values('ROI' ,ascending=True)[0:10]\n",
    "n[['MovieName' ,'ROI']]\n",
    "n"
   ]
  },
  {
   "cell_type": "code",
   "execution_count": 97,
   "id": "fcfc1e16",
   "metadata": {},
   "outputs": [],
   "source": [
    "##QUESTION8 - Do the movies have higher ROI if they get released on festive seasons or long weekend? Calculate the average ROI for different release times."
   ]
  },
  {
   "cell_type": "code",
   "execution_count": 7,
   "id": "e40c31c7",
   "metadata": {},
   "outputs": [
    {
     "data": {
      "text/html": [
       "<div>\n",
       "<style scoped>\n",
       "    .dataframe tbody tr th:only-of-type {\n",
       "        vertical-align: middle;\n",
       "    }\n",
       "\n",
       "    .dataframe tbody tr th {\n",
       "        vertical-align: top;\n",
       "    }\n",
       "\n",
       "    .dataframe thead th {\n",
       "        text-align: right;\n",
       "    }\n",
       "</style>\n",
       "<table border=\"1\" class=\"dataframe\">\n",
       "  <thead>\n",
       "    <tr style=\"text-align: right;\">\n",
       "      <th></th>\n",
       "      <th>SlNo</th>\n",
       "      <th>Release Date</th>\n",
       "      <th>MovieName</th>\n",
       "      <th>ReleaseTime</th>\n",
       "      <th>Genre</th>\n",
       "      <th>Budget</th>\n",
       "      <th>BoxOfficeCollection</th>\n",
       "      <th>YoutubeViews</th>\n",
       "      <th>YoutubeLikes</th>\n",
       "      <th>YoutubeDislikes</th>\n",
       "      <th>ROI</th>\n",
       "    </tr>\n",
       "  </thead>\n",
       "  <tbody>\n",
       "    <tr>\n",
       "      <th>64</th>\n",
       "      <td>65</td>\n",
       "      <td>26-Apr-13</td>\n",
       "      <td>Aashiqui 2</td>\n",
       "      <td>N</td>\n",
       "      <td>Romance</td>\n",
       "      <td>12</td>\n",
       "      <td>110.0</td>\n",
       "      <td>2926673</td>\n",
       "      <td>4944</td>\n",
       "      <td>628</td>\n",
       "      <td>8.166667</td>\n",
       "    </tr>\n",
       "    <tr>\n",
       "      <th>89</th>\n",
       "      <td>90</td>\n",
       "      <td>19-Dec-14</td>\n",
       "      <td>PK</td>\n",
       "      <td>HS</td>\n",
       "      <td>Drama</td>\n",
       "      <td>85</td>\n",
       "      <td>735.0</td>\n",
       "      <td>13270623</td>\n",
       "      <td>43767</td>\n",
       "      <td>5693</td>\n",
       "      <td>7.647059</td>\n",
       "    </tr>\n",
       "    <tr>\n",
       "      <th>132</th>\n",
       "      <td>133</td>\n",
       "      <td>13-Sep-13</td>\n",
       "      <td>Grand Masti</td>\n",
       "      <td>LW</td>\n",
       "      <td>Comedy</td>\n",
       "      <td>35</td>\n",
       "      <td>298.0</td>\n",
       "      <td>1795640</td>\n",
       "      <td>3015</td>\n",
       "      <td>721</td>\n",
       "      <td>7.514286</td>\n",
       "    </tr>\n",
       "    <tr>\n",
       "      <th>135</th>\n",
       "      <td>136</td>\n",
       "      <td>20-Sep-13</td>\n",
       "      <td>The Lunchbox</td>\n",
       "      <td>N</td>\n",
       "      <td>Drama</td>\n",
       "      <td>10</td>\n",
       "      <td>85.0</td>\n",
       "      <td>1064854</td>\n",
       "      <td>4054</td>\n",
       "      <td>285</td>\n",
       "      <td>7.500000</td>\n",
       "    </tr>\n",
       "    <tr>\n",
       "      <th>87</th>\n",
       "      <td>88</td>\n",
       "      <td>14-Jun-13</td>\n",
       "      <td>Fukrey</td>\n",
       "      <td>N</td>\n",
       "      <td>Comedy</td>\n",
       "      <td>5</td>\n",
       "      <td>36.2</td>\n",
       "      <td>227912</td>\n",
       "      <td>222</td>\n",
       "      <td>39</td>\n",
       "      <td>6.240000</td>\n",
       "    </tr>\n",
       "    <tr>\n",
       "      <th>58</th>\n",
       "      <td>59</td>\n",
       "      <td>5-Sep-14</td>\n",
       "      <td>Mary Kom</td>\n",
       "      <td>N</td>\n",
       "      <td>Drama</td>\n",
       "      <td>15</td>\n",
       "      <td>104.0</td>\n",
       "      <td>6086811</td>\n",
       "      <td>26560</td>\n",
       "      <td>1647</td>\n",
       "      <td>5.933333</td>\n",
       "    </tr>\n",
       "    <tr>\n",
       "      <th>128</th>\n",
       "      <td>129</td>\n",
       "      <td>18-Oct-13</td>\n",
       "      <td>Shahid</td>\n",
       "      <td>FS</td>\n",
       "      <td>Drama</td>\n",
       "      <td>6</td>\n",
       "      <td>40.0</td>\n",
       "      <td>1148516</td>\n",
       "      <td>3155</td>\n",
       "      <td>396</td>\n",
       "      <td>5.666667</td>\n",
       "    </tr>\n",
       "    <tr>\n",
       "      <th>37</th>\n",
       "      <td>38</td>\n",
       "      <td>11-Jul-14</td>\n",
       "      <td>Humpty Sharma Ki Dulhania</td>\n",
       "      <td>N</td>\n",
       "      <td>Romance</td>\n",
       "      <td>20</td>\n",
       "      <td>130.0</td>\n",
       "      <td>6604595</td>\n",
       "      <td>14535</td>\n",
       "      <td>2208</td>\n",
       "      <td>5.500000</td>\n",
       "    </tr>\n",
       "    <tr>\n",
       "      <th>101</th>\n",
       "      <td>102</td>\n",
       "      <td>12-Jul-13</td>\n",
       "      <td>Bhaag Milkha Bhaag</td>\n",
       "      <td>N</td>\n",
       "      <td>Drama</td>\n",
       "      <td>30</td>\n",
       "      <td>164.0</td>\n",
       "      <td>2635390</td>\n",
       "      <td>4622</td>\n",
       "      <td>456</td>\n",
       "      <td>4.466667</td>\n",
       "    </tr>\n",
       "    <tr>\n",
       "      <th>115</th>\n",
       "      <td>116</td>\n",
       "      <td>9-Aug-13</td>\n",
       "      <td>Chennai Express</td>\n",
       "      <td>FS</td>\n",
       "      <td>Comedy</td>\n",
       "      <td>75</td>\n",
       "      <td>395.0</td>\n",
       "      <td>1882346</td>\n",
       "      <td>7954</td>\n",
       "      <td>1593</td>\n",
       "      <td>4.266667</td>\n",
       "    </tr>\n",
       "  </tbody>\n",
       "</table>\n",
       "</div>"
      ],
      "text/plain": [
       "     SlNo Release Date                  MovieName ReleaseTime    Genre  \\\n",
       "64     65    26-Apr-13                 Aashiqui 2           N  Romance   \n",
       "89     90    19-Dec-14                         PK          HS   Drama    \n",
       "132   133    13-Sep-13                Grand Masti          LW   Comedy   \n",
       "135   136    20-Sep-13               The Lunchbox           N   Drama    \n",
       "87     88    14-Jun-13                     Fukrey           N   Comedy   \n",
       "58     59     5-Sep-14                   Mary Kom           N   Drama    \n",
       "128   129    18-Oct-13                     Shahid          FS   Drama    \n",
       "37     38    11-Jul-14  Humpty Sharma Ki Dulhania           N  Romance   \n",
       "101   102    12-Jul-13         Bhaag Milkha Bhaag           N   Drama    \n",
       "115   116     9-Aug-13            Chennai Express          FS   Comedy   \n",
       "\n",
       "     Budget  BoxOfficeCollection  YoutubeViews  YoutubeLikes  YoutubeDislikes  \\\n",
       "64       12                110.0       2926673          4944              628   \n",
       "89       85                735.0      13270623         43767             5693   \n",
       "132      35                298.0       1795640          3015              721   \n",
       "135      10                 85.0       1064854          4054              285   \n",
       "87        5                 36.2        227912           222               39   \n",
       "58       15                104.0       6086811         26560             1647   \n",
       "128       6                 40.0       1148516          3155              396   \n",
       "37       20                130.0       6604595         14535             2208   \n",
       "101      30                164.0       2635390          4622              456   \n",
       "115      75                395.0       1882346          7954             1593   \n",
       "\n",
       "          ROI  \n",
       "64   8.166667  \n",
       "89   7.647059  \n",
       "132  7.514286  \n",
       "135  7.500000  \n",
       "87   6.240000  \n",
       "58   5.933333  \n",
       "128  5.666667  \n",
       "37   5.500000  \n",
       "101  4.466667  \n",
       "115  4.266667  "
      ]
     },
     "execution_count": 7,
     "metadata": {},
     "output_type": "execute_result"
    }
   ],
   "source": [
    "new_column=df['ROI']=(df['BoxOfficeCollection'] - df['Budget']) / df['Budget']\n",
    "n=df.sort_values('ROI' ,ascending=False)[0:10]\n",
    "n[['MovieName' ,'ROI']]\n",
    "n"
   ]
  },
  {
   "cell_type": "code",
   "execution_count": 99,
   "id": "6b66b423",
   "metadata": {},
   "outputs": [],
   "source": [
    "##QUESTION9 - Isthere a correlation between box office collection and YouTube likes? Is the correlation positive or negative?"
   ]
  },
  {
   "cell_type": "code",
   "execution_count": 114,
   "id": "5b68e823",
   "metadata": {},
   "outputs": [
    {
     "data": {
      "text/plain": [
       "0.6825165877731297"
      ]
     },
     "execution_count": 114,
     "metadata": {},
     "output_type": "execute_result"
    }
   ],
   "source": [
    "correlation=df.corr(method='pearson')\n",
    "df['BoxOfficeCollection'].corr(df['YoutubeLikes'])"
   ]
  },
  {
   "cell_type": "code",
   "execution_count": 101,
   "id": "ac126c1a",
   "metadata": {},
   "outputs": [],
   "source": [
    "##QUESTION 10 - Which genre of movies typically sees more YouTube views? Draw boxplots for each genre of movies to compare."
   ]
  },
  {
   "cell_type": "code",
   "execution_count": 106,
   "id": "0073c9df",
   "metadata": {},
   "outputs": [
    {
     "data": {
      "text/plain": [
       "[Text(0.5, 1.0, 'Boxplot for Each Genre of Movies based on Youtube Views')]"
      ]
     },
     "execution_count": 106,
     "metadata": {},
     "output_type": "execute_result"
    },
    {
     "data": {
      "image/png": "[encoded data removed]",
      "text/plain": [
       "<Figure size 432x288 with 1 Axes>"
      ]
     },
     "metadata": {
      "needs_background": "light"
     },
     "output_type": "display_data"
    }
   ],
   "source": [
    "sns.boxplot(x = df[\"Genre\"], y = df[\"YoutubeViews\"]).set(title='Boxplot for Each Genre of Movies based on Youtube Views')"
   ]
  },
  {
   "cell_type": "code",
   "execution_count": 107,
   "id": "488bdef2",
   "metadata": {},
   "outputs": [],
   "source": [
    "##QUESTION 11 - Which of the variables among Budget,BoxOfficeCollection,YoutubeView,YoutubeLikes,YoutubeDislikesare highly correlated? Note: Draw pair plot orheatmap."
   ]
  },
  {
   "cell_type": "code",
   "execution_count": 115,
   "id": "3f7c2720",
   "metadata": {},
   "outputs": [
    {
     "data": {
      "image/png": "[encoded data removed]",
      "text/plain": [
       "<Figure size 720x720 with 36 Axes>"
      ]
     },
     "metadata": {
      "needs_background": "light"
     },
     "output_type": "display_data"
    },
    {
     "data": {
      "text/plain": [
       "array([[<AxesSubplot:xlabel='SlNo', ylabel='SlNo'>,\n",
       "        <AxesSubplot:xlabel='Budget', ylabel='SlNo'>,\n",
       "        <AxesSubplot:xlabel='BoxOfficeCollection', ylabel='SlNo'>,\n",
       "        <AxesSubplot:xlabel='YoutubeViews', ylabel='SlNo'>,\n",
       "        <AxesSubplot:xlabel='YoutubeLikes', ylabel='SlNo'>,\n",
       "        <AxesSubplot:xlabel='YoutubeDislikes', ylabel='SlNo'>],\n",
       "       [<AxesSubplot:xlabel='SlNo', ylabel='Budget'>,\n",
       "        <AxesSubplot:xlabel='Budget', ylabel='Budget'>,\n",
       "        <AxesSubplot:xlabel='BoxOfficeCollection', ylabel='Budget'>,\n",
       "        <AxesSubplot:xlabel='YoutubeViews', ylabel='Budget'>,\n",
       "        <AxesSubplot:xlabel='YoutubeLikes', ylabel='Budget'>,\n",
       "        <AxesSubplot:xlabel='YoutubeDislikes', ylabel='Budget'>],\n",
       "       [<AxesSubplot:xlabel='SlNo', ylabel='BoxOfficeCollection'>,\n",
       "        <AxesSubplot:xlabel='Budget', ylabel='BoxOfficeCollection'>,\n",
       "        <AxesSubplot:xlabel='BoxOfficeCollection', ylabel='BoxOfficeCollection'>,\n",
       "        <AxesSubplot:xlabel='YoutubeViews', ylabel='BoxOfficeCollection'>,\n",
       "        <AxesSubplot:xlabel='YoutubeLikes', ylabel='BoxOfficeCollection'>,\n",
       "        <AxesSubplot:xlabel='YoutubeDislikes', ylabel='BoxOfficeCollection'>],\n",
       "       [<AxesSubplot:xlabel='SlNo', ylabel='YoutubeViews'>,\n",
       "        <AxesSubplot:xlabel='Budget', ylabel='YoutubeViews'>,\n",
       "        <AxesSubplot:xlabel='BoxOfficeCollection', ylabel='YoutubeViews'>,\n",
       "        <AxesSubplot:xlabel='YoutubeViews', ylabel='YoutubeViews'>,\n",
       "        <AxesSubplot:xlabel='YoutubeLikes', ylabel='YoutubeViews'>,\n",
       "        <AxesSubplot:xlabel='YoutubeDislikes', ylabel='YoutubeViews'>],\n",
       "       [<AxesSubplot:xlabel='SlNo', ylabel='YoutubeLikes'>,\n",
       "        <AxesSubplot:xlabel='Budget', ylabel='YoutubeLikes'>,\n",
       "        <AxesSubplot:xlabel='BoxOfficeCollection', ylabel='YoutubeLikes'>,\n",
       "        <AxesSubplot:xlabel='YoutubeViews', ylabel='YoutubeLikes'>,\n",
       "        <AxesSubplot:xlabel='YoutubeLikes', ylabel='YoutubeLikes'>,\n",
       "        <AxesSubplot:xlabel='YoutubeDislikes', ylabel='YoutubeLikes'>],\n",
       "       [<AxesSubplot:xlabel='SlNo', ylabel='YoutubeDislikes'>,\n",
       "        <AxesSubplot:xlabel='Budget', ylabel='YoutubeDislikes'>,\n",
       "        <AxesSubplot:xlabel='BoxOfficeCollection', ylabel='YoutubeDislikes'>,\n",
       "        <AxesSubplot:xlabel='YoutubeViews', ylabel='YoutubeDislikes'>,\n",
       "        <AxesSubplot:xlabel='YoutubeLikes', ylabel='YoutubeDislikes'>,\n",
       "        <AxesSubplot:xlabel='YoutubeDislikes', ylabel='YoutubeDislikes'>]],\n",
       "      dtype=object)"
      ]
     },
     "execution_count": 115,
     "metadata": {},
     "output_type": "execute_result"
    }
   ],
   "source": [
    "g = pd.plotting.scatter_matrix(correlation, figsize=(10,10), marker = 'o', hist_kwds = {'bins': 10}, s = 60, alpha = 0.8)\n",
    "plt.show()\n",
    "g"
   ]
  },
  {
   "cell_type": "code",
   "execution_count": 25,
   "id": "328072a8",
   "metadata": {},
   "outputs": [
    {
     "data": {
      "image/png": "[encoded data removed]",
      "text/plain": [
       "<Figure size 432x288 with 2 Axes>"
      ]
     },
     "metadata": {
      "needs_background": "light"
     },
     "output_type": "display_data"
    }
   ],
   "source": [
    "temp = df.loc[:, ['Budget', 'BoxOfficeCollection', 'YoutubeViews', 'YoutubeLikes', 'YoutubeDislikes']]\n",
    "corrMatrix = temp.corr()\n",
    "sns.heatmap(corrMatrix, annot = True)\n",
    "plt.title('corr matrix')\n",
    "plt.show()"
   ]
  },
  {
   "cell_type": "code",
   "execution_count": 120,
   "id": "c70741d0",
   "metadata": {},
   "outputs": [],
   "source": [
    "##QUESTION 12-During 2013−2015 period,highlight the genre of movies and theirbox office collection? Visualize with best fit graph."
   ]
  },
  {
   "cell_type": "code",
   "execution_count": 3,
   "id": "c68b5759",
   "metadata": {},
   "outputs": [
    {
     "data": {
      "text/plain": [
       "<AxesSubplot:xlabel='Genre', ylabel='BoxOfficeCollection'>"
      ]
     },
     "execution_count": 3,
     "metadata": {},
     "output_type": "execute_result"
    },
    {
     "data": {
      "image/png": "[encoded data removed]",
      "text/plain": [
       "<Figure size 432x288 with 1 Axes>"
      ]
     },
     "metadata": {
      "needs_background": "light"
     },
     "output_type": "display_data"
    }
   ],
   "source": [
    "df = pd.DataFrame(df, columns = ['Genre','BoxOfficeCollection'])\n",
    "from  numpy import median\n",
    "sns.barplot(x=\"Genre\",y=\"BoxOfficeCollection\",data=df_12,estimator=median)"
   ]
  },
  {
   "cell_type": "code",
   "execution_count": 5,
   "id": "e7d27317",
   "metadata": {},
   "outputs": [],
   "source": [
    "##QUESTION14-Find thedistribution of movie budgetforevery Genre."
   ]
  },
  {
   "cell_type": "code",
   "execution_count": 6,
   "id": "1c7bbefe",
   "metadata": {},
   "outputs": [
    {
     "data": {
      "text/plain": [
       "<AxesSubplot:xlabel='Genre', ylabel='BoxOfficeCollection'>"
      ]
     },
     "execution_count": 6,
     "metadata": {},
     "output_type": "execute_result"
    },
    {
     "data": {
      "image/png": "[encoded data removed]",
      "text/plain": [
       "<Figure size 432x288 with 1 Axes>"
      ]
     },
     "metadata": {
      "needs_background": "light"
     },
     "output_type": "display_data"
    }
   ],
   "source": [
    "df_14 = pd.DataFrame(df, columns = ['Genre','BoxOfficeCollection'])\n",
    "sns.barplot(x=\"Genre\",y=\"BoxOfficeCollection\",hue=\"Genre\",data=df_14)"
   ]
  },
  {
   "cell_type": "code",
   "execution_count": 8,
   "id": "264dee3c",
   "metadata": {},
   "outputs": [],
   "source": [
    "##QUESTION 15"
   ]
  },
  {
   "cell_type": "code",
   "execution_count": 21,
   "id": "f19043f6",
   "metadata": {},
   "outputs": [
    {
     "name": "stdout",
     "output_type": "stream",
     "text": [
      "Release Year\n",
      "2013    324180\n",
      "2014    710142\n",
      "2015    139431\n",
      "Name: YoutubeLikes, dtype: int64\n"
     ]
    },
    {
     "data": {
      "text/plain": [
       "<AxesSubplot:xlabel='Release Year'>"
      ]
     },
     "execution_count": 21,
     "metadata": {},
     "output_type": "execute_result"
    },
    {
     "data": {
      "image/png": "[encoded data removed]",
      "text/plain": [
       "<Figure size 432x288 with 1 Axes>"
      ]
     },
     "metadata": {
      "needs_background": "light"
     },
     "output_type": "display_data"
    }
   ],
   "source": [
    "temp = df.groupby(['Release Year'])['YoutubeLikes'].agg('sum')\n",
    "print(temp)\n",
    "temp.plot(kind = 'bar')"
   ]
  },
  {
   "cell_type": "code",
   "execution_count": 22,
   "id": "f9f9932a",
   "metadata": {},
   "outputs": [],
   "source": [
    "#QUESTION13-During 2013−2015, find the number of movies released in every year. Also, visualize with best fit graph."
   ]
  },
  {
   "cell_type": "code",
   "execution_count": 23,
   "id": "93f7a207",
   "metadata": {},
   "outputs": [
    {
     "name": "stdout",
     "output_type": "stream",
     "text": [
      "2014    70\n",
      "2013    67\n",
      "2015    12\n",
      "Name: Release Year, dtype: int64\n"
     ]
    },
    {
     "data": {
      "text/plain": [
       "<AxesSubplot:>"
      ]
     },
     "execution_count": 23,
     "metadata": {},
     "output_type": "execute_result"
    },
    {
     "data": {
      "image/png": "[encoded data removed]",
      "text/plain": [
       "<Figure size 432x288 with 1 Axes>"
      ]
     },
     "metadata": {
      "needs_background": "light"
     },
     "output_type": "display_data"
    }
   ],
   "source": [
    "temp = df['Release Year'].value_counts()\n",
    "print(temp)\n",
    "temp.plot(kind = 'bar')"
   ]
  },
  {
   "cell_type": "code",
   "execution_count": null,
   "id": "a2dcd802",
   "metadata": {},
   "outputs": [],
   "source": []
  }
 ],
 "metadata": {
  "kernelspec": {
   "display_name": "Python 3",
   "language": "python",
   "name": "python3"
  },
  "language_info": {
   "codemirror_mode": {
    "name": "ipython",
    "version": 3
   },
   "file_extension": ".py",
   "mimetype": "text/x-python",
   "name": "python",
   "nbconvert_exporter": "python",
   "pygments_lexer": "ipython3",
   "version": "3.6.13"
  }
 },
 "nbformat": 4,
 "nbformat_minor": 5
}
